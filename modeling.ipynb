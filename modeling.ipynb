{
 "cells": [
  {
   "cell_type": "markdown",
   "metadata": {},
   "source": [
    "# Building a Spotify Recommendation Engine for Music Labels\n",
    "## Cosine Similarity vs Clustering-Based Recommendation\n",
    "### Flatiron School Data Science Program Phase 4 Project<br>Justin Williams & Khyatee Desai"
   ]
  },
  {
   "cell_type": "code",
   "execution_count": 340,
   "metadata": {},
   "outputs": [],
   "source": [
    "import pandas as pd\n",
    "import numpy as np\n",
    "import requests\n",
    "from bs4 import BeautifulSoup\n",
    "from zipfile import ZipFile \n",
    "from sklearn import set_config\n",
    "from sklearn.cluster import KMeans\n",
    "set_config(print_changed_only=False, display=None)\n",
    "pd.set_option('display.max_columns', None)\n",
    "pd.set_option('display.max_rows', None)\n",
    "import matplotlib.pyplot as plt\n",
    "% matplotlib inline\n",
    "import seaborn as sns\n",
    "sns.set_style('darkgrid')\n",
    "import warnings\n",
    "warnings.filterwarnings('ignore')\n",
    "from sklearn.metrics.pairwise import cosine_similarity\n",
    "from scipy import sparse\n",
    "import spotipy\n",
    "from spotipy.oauth2 import SpotifyClientCredentials\n",
    "import os\n",
    "import sys\n",
    "import statistics"
   ]
  },
  {
   "cell_type": "markdown",
   "metadata": {},
   "source": [
    "# Spotify API Data Collection\n",
    "The following process is used to collect song attributes for a user's given playlist from the Spotify API"
   ]
  },
  {
   "cell_type": "code",
   "execution_count": 6,
   "metadata": {},
   "outputs": [],
   "source": [
    "# create a sample playlist\n",
    "playlist = ['Polly - Moses Sumney', 'Goodbye - Porches','rangerover - Porches','Tal Uno - Barrie',\n",
    "               \"Angel's Song - Arlo Parks\",'Randy - Big Thief', 'Butterfly - Adrianne Lenker',\n",
    "               'All of Me Wants All of You - Sufjan Stevens','Cola - Arlo Parks']"
   ]
  },
  {
   "cell_type": "markdown",
   "metadata": {},
   "source": [
    "### Get spotify id's for each song"
   ]
  },
  {
   "cell_type": "code",
   "execution_count": 7,
   "metadata": {
    "scrolled": false
   },
   "outputs": [],
   "source": [
    "# save my credentials\n",
    "os.environ[\"SPOTIPY_CLIENT_ID\"] = \"a8561b2ef375442f8f89527b255f4c78\"\n",
    "os.environ[\"SPOTIPY_CLIENT_SECRET\"] = \"566a59fd72764b9580f8767c5bc0ca7f\"\n",
    "\n",
    "spotify = spotipy.Spotify(auth_manager=SpotifyClientCredentials())\n",
    "\n",
    "# save song id's, release dates, and song popularity in lists\n",
    "song_ids = []\n",
    "release_dates = []\n",
    "popularities = []\n",
    "for song in playlist:\n",
    "    try:\n",
    "        results = spotify.search(q=song, type='track')\n",
    "        song_ids.append(results['tracks']['items'][0]['id'])\n",
    "        release_dates.append(results['tracks']['items'][0]['album']['release_date'])\n",
    "        popularities.append(results['tracks']['items'][0]['popularity'])\n",
    "    except:\n",
    "        print(\"Couldn't find:\", song,'\\n')"
   ]
  },
  {
   "cell_type": "markdown",
   "metadata": {},
   "source": [
    "### Retrieve Song attributes for each song"
   ]
  },
  {
   "cell_type": "code",
   "execution_count": 8,
   "metadata": {},
   "outputs": [
    {
     "data": {
      "text/plain": [
       "{'danceability': 0.389,\n",
       " 'energy': 0.258,\n",
       " 'key': 10,\n",
       " 'loudness': -11.534,\n",
       " 'mode': 1,\n",
       " 'speechiness': 0.0315,\n",
       " 'acousticness': 0.927,\n",
       " 'instrumentalness': 5.2e-05,\n",
       " 'liveness': 0.0906,\n",
       " 'valence': 0.195,\n",
       " 'tempo': 137.831,\n",
       " 'type': 'audio_features',\n",
       " 'id': '6LQOd5wz3RmBFFZxdhSfLT',\n",
       " 'uri': 'spotify:track:6LQOd5wz3RmBFFZxdhSfLT',\n",
       " 'track_href': 'https://api.spotify.com/v1/tracks/6LQOd5wz3RmBFFZxdhSfLT',\n",
       " 'analysis_url': 'https://api.spotify.com/v1/audio-analysis/6LQOd5wz3RmBFFZxdhSfLT',\n",
       " 'duration_ms': 218413,\n",
       " 'time_signature': 4}"
      ]
     },
     "execution_count": 8,
     "metadata": {},
     "output_type": "execute_result"
    }
   ],
   "source": [
    "# use the song id's gathered above to get audio attributes for each song\n",
    "attributes = spotify.audio_features(tracks=song_ids)\n",
    "attributes[0]"
   ]
  },
  {
   "cell_type": "code",
   "execution_count": 9,
   "metadata": {},
   "outputs": [],
   "source": [
    "# combine the song popularity and release dates with the rest of the attributes\n",
    "for i in range(len(attributes)):\n",
    "    attributes[i]['track/artist'] = playlist[i]\n",
    "    attributes[i]['popularity'] = popularities[i]\n",
    "    attributes[i]['release_date'] = release_dates[i]\n",
    "    \n",
    "# create a dataframe from all the attributes\n",
    "playlist_df = pd.DataFrame(attributes)"
   ]
  },
  {
   "cell_type": "markdown",
   "metadata": {},
   "source": [
    "# Spotify Data Cleaning"
   ]
  },
  {
   "cell_type": "markdown",
   "metadata": {},
   "source": [
    "### Create Decade Column"
   ]
  },
  {
   "cell_type": "code",
   "execution_count": 10,
   "metadata": {},
   "outputs": [],
   "source": [
    "# drop unecessary features \n",
    "playlist_df.drop(['type', 'id', 'uri', 'track_href', 'analysis_url', 'time_signature'], axis=1, inplace=True)\n",
    "\n",
    "# set release date as datetime\n",
    "playlist_df['release_date'] = pd.to_datetime(playlist_df['release_date'])\n",
    "\n",
    "# make year column datetime\n",
    "playlist_df['year'] = playlist_df['release_date'].dt.year\n",
    "\n",
    "# create decade column\n",
    "playlist_df['decade'] = playlist_df['year'].apply(lambda x: str(x)[:3]+'0s')"
   ]
  },
  {
   "cell_type": "markdown",
   "metadata": {},
   "source": [
    "### Map Keys/Modes to make more interpretable"
   ]
  },
  {
   "cell_type": "code",
   "execution_count": 11,
   "metadata": {},
   "outputs": [
    {
     "data": {
      "text/plain": [
       "B     33.33\n",
       "E     22.22\n",
       "D     11.11\n",
       "C     11.11\n",
       "Bb    11.11\n",
       "G     11.11\n",
       "Name: letter_keys, dtype: float64"
      ]
     },
     "execution_count": 11,
     "metadata": {},
     "output_type": "execute_result"
    }
   ],
   "source": [
    "# change keys/mode to letter/maj/min representations\n",
    "keys = {0:'C', 1:'Db',2:'D',3:'Eb',4:'E',5:'F',6:'F#',7:'G',8:'Ab',9:'A',10:'Bb',11:'B'}\n",
    "modes = {0:'Minor',1:'Major'}\n",
    "\n",
    "# create new column in df\n",
    "playlist_df['letter_keys'] = playlist_df['key'].map(keys)\n",
    "playlist_df['modes'] = playlist_df['mode'].map(modes)\n",
    "\n",
    "round(playlist_df['letter_keys'].value_counts(normalize=True)*100, 2)"
   ]
  },
  {
   "cell_type": "code",
   "execution_count": 12,
   "metadata": {},
   "outputs": [],
   "source": [
    "# create a column that concatonates key with mode\n",
    "playlist_df['key_mode'] = playlist_df['letter_keys'] + \" \" + playlist_df['modes']"
   ]
  },
  {
   "cell_type": "markdown",
   "metadata": {},
   "source": [
    "### Impute Outliers"
   ]
  },
  {
   "cell_type": "code",
   "execution_count": 13,
   "metadata": {},
   "outputs": [],
   "source": [
    "# Bring outliers down/up to 5 standard deviations from the mean\n",
    "for feat in playlist_df.columns:\n",
    "    try:\n",
    "        abv_5_std = playlist_df[feat].mean()+ 5* playlist_df[feat].std()\n",
    "        below_5_std = playlist_df[feat].mean()- 5* playlist_df[feat].std()\n",
    "        conditions = [playlist_df[feat]>abv_5_std, playlist_df[feat]<below_5_std]\n",
    "        choices = [abv_5_std, below_5_std]\n",
    "        df[feat] = np.select(conditions, choices, playlist_df[feat])\n",
    "    except:\n",
    "        pass"
   ]
  },
  {
   "cell_type": "markdown",
   "metadata": {},
   "source": [
    "### Standardize"
   ]
  },
  {
   "cell_type": "code",
   "execution_count": 14,
   "metadata": {},
   "outputs": [],
   "source": [
    "# Scale features down to 0-1\n",
    "playlist_df['scaled_speech'] = (playlist_df['speechiness'] - min(playlist_df['speechiness'])) / (max(playlist_df['speechiness']) - min(playlist_df['speechiness']))\n",
    "playlist_df['scaled_duration'] = (playlist_df['duration_ms'] - min(playlist_df['duration_ms'])) / (max(playlist_df['duration_ms']) - min(playlist_df['duration_ms']))\n",
    "playlist_df['scaled_loudness'] = (playlist_df['loudness'] - min(playlist_df['loudness'])) / (max(playlist_df['loudness']) - min(playlist_df['loudness']))\n",
    "playlist_df['scaled_tempo'] = (playlist_df['tempo'] - min(playlist_df['tempo'])) / (max(playlist_df['tempo']) - min(playlist_df['tempo']))\n",
    "playlist_df['scaled_pop'] = (playlist_df['popularity'] - min(playlist_df['popularity'])) / (max(playlist_df['popularity']) - min(playlist_df['popularity']))\n"
   ]
  },
  {
   "cell_type": "markdown",
   "metadata": {},
   "source": [
    "### Create Dummy Variables"
   ]
  },
  {
   "cell_type": "code",
   "execution_count": 15,
   "metadata": {},
   "outputs": [],
   "source": [
    "# all the dummies from the big dataset\n",
    "all_dummies = ['A Major', 'A Minor',\n",
    "       'Ab Major', 'Ab Minor', 'B Major', 'B Minor', 'Bb Major', 'Bb Minor',\n",
    "       'C Major', 'C Minor', 'D Major', 'D Minor', 'Db Major', 'Db Minor',\n",
    "       'E Major', 'E Minor', 'Eb Major', 'Eb Minor', 'F Major', 'F Minor',\n",
    "       'F# Major', 'F# Minor', 'G Major', 'G Minor', '1920s', '1930s', '1940s',\n",
    "       '1950s', '1960s', '1970s', '1980s', '1990s', '2000s', '2010s', '2020s']\n",
    "\n",
    "# make dummies for key/mode and decades\n",
    "key_dummies = pd.get_dummies(playlist_df['key_mode'])\n",
    "decade_dummies = pd.get_dummies(playlist_df['decade'])\n",
    "dummies = pd.concat([ key_dummies, decade_dummies], axis=1)\n",
    "\n",
    "# check which dummies weren't created - we need to add these in as zeros so the dataframes have the same shape\n",
    "playlist_df = pd.concat([playlist_df, key_dummies, decade_dummies], axis=1)\n",
    "zeroes = list(set(all_dummies) - set(dummies.columns))\n",
    "\n",
    "# add those dummies in as zeroes\n",
    "for col in zeroes:\n",
    "    playlist_df[col] = 0\n",
    "\n",
    "# drop first column for dummies\n",
    "playlist_df.drop(['A Major', '1920s'],axis=1, inplace=True)"
   ]
  },
  {
   "cell_type": "code",
   "execution_count": 16,
   "metadata": {},
   "outputs": [
    {
     "data": {
      "text/plain": [
       "(9, 58)"
      ]
     },
     "execution_count": 16,
     "metadata": {},
     "output_type": "execute_result"
    }
   ],
   "source": [
    "playlist_df.shape"
   ]
  },
  {
   "cell_type": "markdown",
   "metadata": {},
   "source": [
    "# Similarity-Based Recommendation\n",
    "### Import Record Labels dataset"
   ]
  },
  {
   "cell_type": "code",
   "execution_count": 17,
   "metadata": {},
   "outputs": [],
   "source": [
    "labels_df = pd.read_csv('data/cleaned_data_labels.csv',index_col=[0])\n",
    "\n",
    "# drop unnecesary features\n",
    "labels_df.drop(['key_mode', 'decade', 'modes', 'letter_keys',  'year', \n",
    "         'release_date', 'mode', 'loudness', 'key', 'id', 'explicit', \n",
    "         'tempo', 'duration_ms', 'speechiness', 'popularity' ], axis=1, inplace=True)"
   ]
  },
  {
   "cell_type": "code",
   "execution_count": 18,
   "metadata": {},
   "outputs": [
    {
     "data": {
      "text/html": [
       "<div>\n",
       "<style scoped>\n",
       "    .dataframe tbody tr th:only-of-type {\n",
       "        vertical-align: middle;\n",
       "    }\n",
       "\n",
       "    .dataframe tbody tr th {\n",
       "        vertical-align: top;\n",
       "    }\n",
       "\n",
       "    .dataframe thead th {\n",
       "        text-align: right;\n",
       "    }\n",
       "</style>\n",
       "<table border=\"1\" class=\"dataframe\">\n",
       "  <thead>\n",
       "    <tr style=\"text-align: right;\">\n",
       "      <th></th>\n",
       "      <th>acousticness</th>\n",
       "      <th>danceability</th>\n",
       "      <th>energy</th>\n",
       "      <th>instrumentalness</th>\n",
       "      <th>liveness</th>\n",
       "      <th>name</th>\n",
       "      <th>valence</th>\n",
       "      <th>scaled_speech</th>\n",
       "      <th>scaled_duration</th>\n",
       "      <th>scaled_loudness</th>\n",
       "      <th>scaled_tempo</th>\n",
       "      <th>scaled_pop</th>\n",
       "      <th>A Minor</th>\n",
       "      <th>Ab Major</th>\n",
       "      <th>Ab Minor</th>\n",
       "      <th>B Major</th>\n",
       "      <th>B Minor</th>\n",
       "      <th>Bb Major</th>\n",
       "      <th>Bb Minor</th>\n",
       "      <th>C Major</th>\n",
       "      <th>C Minor</th>\n",
       "      <th>D Major</th>\n",
       "      <th>D Minor</th>\n",
       "      <th>Db Major</th>\n",
       "      <th>Db Minor</th>\n",
       "      <th>E Major</th>\n",
       "      <th>E Minor</th>\n",
       "      <th>Eb Major</th>\n",
       "      <th>Eb Minor</th>\n",
       "      <th>F Major</th>\n",
       "      <th>F Minor</th>\n",
       "      <th>F# Major</th>\n",
       "      <th>F# Minor</th>\n",
       "      <th>G Major</th>\n",
       "      <th>G Minor</th>\n",
       "      <th>1930s</th>\n",
       "      <th>1940s</th>\n",
       "      <th>1950s</th>\n",
       "      <th>1960s</th>\n",
       "      <th>1970s</th>\n",
       "      <th>1980s</th>\n",
       "      <th>1990s</th>\n",
       "      <th>2000s</th>\n",
       "      <th>2010s</th>\n",
       "      <th>2020s</th>\n",
       "      <th>artist</th>\n",
       "      <th>label</th>\n",
       "    </tr>\n",
       "  </thead>\n",
       "  <tbody>\n",
       "    <tr>\n",
       "      <th>3919</th>\n",
       "      <td>0.162000</td>\n",
       "      <td>0.181</td>\n",
       "      <td>0.486</td>\n",
       "      <td>0.2030</td>\n",
       "      <td>0.1110</td>\n",
       "      <td>Machine Gun</td>\n",
       "      <td>0.0545</td>\n",
       "      <td>0.152872</td>\n",
       "      <td>0.048459</td>\n",
       "      <td>0.716686</td>\n",
       "      <td>0.633260</td>\n",
       "      <td>0.40</td>\n",
       "      <td>0</td>\n",
       "      <td>0</td>\n",
       "      <td>0</td>\n",
       "      <td>0</td>\n",
       "      <td>0</td>\n",
       "      <td>0</td>\n",
       "      <td>0</td>\n",
       "      <td>0</td>\n",
       "      <td>0</td>\n",
       "      <td>0</td>\n",
       "      <td>0</td>\n",
       "      <td>0</td>\n",
       "      <td>0</td>\n",
       "      <td>0</td>\n",
       "      <td>0</td>\n",
       "      <td>0</td>\n",
       "      <td>0</td>\n",
       "      <td>0</td>\n",
       "      <td>0</td>\n",
       "      <td>0</td>\n",
       "      <td>1</td>\n",
       "      <td>0</td>\n",
       "      <td>0</td>\n",
       "      <td>0</td>\n",
       "      <td>0</td>\n",
       "      <td>0</td>\n",
       "      <td>0</td>\n",
       "      <td>0</td>\n",
       "      <td>0</td>\n",
       "      <td>1</td>\n",
       "      <td>0</td>\n",
       "      <td>0</td>\n",
       "      <td>0</td>\n",
       "      <td>Slowdive</td>\n",
       "      <td>Dead Oceans</td>\n",
       "    </tr>\n",
       "    <tr>\n",
       "      <th>3920</th>\n",
       "      <td>0.098700</td>\n",
       "      <td>0.172</td>\n",
       "      <td>0.745</td>\n",
       "      <td>0.0073</td>\n",
       "      <td>0.2350</td>\n",
       "      <td>40 Days</td>\n",
       "      <td>0.4910</td>\n",
       "      <td>0.153282</td>\n",
       "      <td>0.035013</td>\n",
       "      <td>0.774223</td>\n",
       "      <td>0.757644</td>\n",
       "      <td>0.37</td>\n",
       "      <td>0</td>\n",
       "      <td>0</td>\n",
       "      <td>0</td>\n",
       "      <td>0</td>\n",
       "      <td>0</td>\n",
       "      <td>0</td>\n",
       "      <td>0</td>\n",
       "      <td>0</td>\n",
       "      <td>0</td>\n",
       "      <td>0</td>\n",
       "      <td>0</td>\n",
       "      <td>0</td>\n",
       "      <td>0</td>\n",
       "      <td>0</td>\n",
       "      <td>1</td>\n",
       "      <td>0</td>\n",
       "      <td>0</td>\n",
       "      <td>0</td>\n",
       "      <td>0</td>\n",
       "      <td>0</td>\n",
       "      <td>0</td>\n",
       "      <td>0</td>\n",
       "      <td>0</td>\n",
       "      <td>0</td>\n",
       "      <td>0</td>\n",
       "      <td>0</td>\n",
       "      <td>0</td>\n",
       "      <td>0</td>\n",
       "      <td>0</td>\n",
       "      <td>1</td>\n",
       "      <td>0</td>\n",
       "      <td>0</td>\n",
       "      <td>0</td>\n",
       "      <td>Slowdive</td>\n",
       "      <td>Dead Oceans</td>\n",
       "    </tr>\n",
       "    <tr>\n",
       "      <th>3921</th>\n",
       "      <td>0.195000</td>\n",
       "      <td>0.129</td>\n",
       "      <td>0.647</td>\n",
       "      <td>0.2920</td>\n",
       "      <td>0.1040</td>\n",
       "      <td>Machine Gun</td>\n",
       "      <td>0.0393</td>\n",
       "      <td>0.156970</td>\n",
       "      <td>0.048824</td>\n",
       "      <td>0.792687</td>\n",
       "      <td>0.633165</td>\n",
       "      <td>0.41</td>\n",
       "      <td>0</td>\n",
       "      <td>0</td>\n",
       "      <td>0</td>\n",
       "      <td>0</td>\n",
       "      <td>0</td>\n",
       "      <td>0</td>\n",
       "      <td>0</td>\n",
       "      <td>0</td>\n",
       "      <td>0</td>\n",
       "      <td>0</td>\n",
       "      <td>0</td>\n",
       "      <td>0</td>\n",
       "      <td>0</td>\n",
       "      <td>0</td>\n",
       "      <td>0</td>\n",
       "      <td>0</td>\n",
       "      <td>0</td>\n",
       "      <td>0</td>\n",
       "      <td>0</td>\n",
       "      <td>0</td>\n",
       "      <td>0</td>\n",
       "      <td>0</td>\n",
       "      <td>0</td>\n",
       "      <td>0</td>\n",
       "      <td>0</td>\n",
       "      <td>0</td>\n",
       "      <td>0</td>\n",
       "      <td>0</td>\n",
       "      <td>0</td>\n",
       "      <td>1</td>\n",
       "      <td>0</td>\n",
       "      <td>0</td>\n",
       "      <td>0</td>\n",
       "      <td>Slowdive</td>\n",
       "      <td>Dead Oceans</td>\n",
       "    </tr>\n",
       "    <tr>\n",
       "      <th>3922</th>\n",
       "      <td>0.001370</td>\n",
       "      <td>0.431</td>\n",
       "      <td>0.482</td>\n",
       "      <td>0.4410</td>\n",
       "      <td>0.2380</td>\n",
       "      <td>Ballad Of Sister Sue</td>\n",
       "      <td>0.1230</td>\n",
       "      <td>0.126232</td>\n",
       "      <td>0.049432</td>\n",
       "      <td>0.816804</td>\n",
       "      <td>0.524579</td>\n",
       "      <td>0.38</td>\n",
       "      <td>0</td>\n",
       "      <td>0</td>\n",
       "      <td>0</td>\n",
       "      <td>0</td>\n",
       "      <td>0</td>\n",
       "      <td>0</td>\n",
       "      <td>0</td>\n",
       "      <td>0</td>\n",
       "      <td>0</td>\n",
       "      <td>0</td>\n",
       "      <td>0</td>\n",
       "      <td>0</td>\n",
       "      <td>0</td>\n",
       "      <td>0</td>\n",
       "      <td>0</td>\n",
       "      <td>0</td>\n",
       "      <td>0</td>\n",
       "      <td>0</td>\n",
       "      <td>0</td>\n",
       "      <td>0</td>\n",
       "      <td>1</td>\n",
       "      <td>0</td>\n",
       "      <td>0</td>\n",
       "      <td>0</td>\n",
       "      <td>0</td>\n",
       "      <td>0</td>\n",
       "      <td>0</td>\n",
       "      <td>0</td>\n",
       "      <td>0</td>\n",
       "      <td>1</td>\n",
       "      <td>0</td>\n",
       "      <td>0</td>\n",
       "      <td>0</td>\n",
       "      <td>Slowdive</td>\n",
       "      <td>Dead Oceans</td>\n",
       "    </tr>\n",
       "    <tr>\n",
       "      <th>3923</th>\n",
       "      <td>0.000057</td>\n",
       "      <td>0.227</td>\n",
       "      <td>0.480</td>\n",
       "      <td>0.8350</td>\n",
       "      <td>0.0477</td>\n",
       "      <td>Catch The Breeze</td>\n",
       "      <td>0.1880</td>\n",
       "      <td>0.159020</td>\n",
       "      <td>0.047115</td>\n",
       "      <td>0.841203</td>\n",
       "      <td>0.379780</td>\n",
       "      <td>0.37</td>\n",
       "      <td>0</td>\n",
       "      <td>0</td>\n",
       "      <td>0</td>\n",
       "      <td>0</td>\n",
       "      <td>0</td>\n",
       "      <td>0</td>\n",
       "      <td>0</td>\n",
       "      <td>0</td>\n",
       "      <td>0</td>\n",
       "      <td>0</td>\n",
       "      <td>0</td>\n",
       "      <td>0</td>\n",
       "      <td>0</td>\n",
       "      <td>0</td>\n",
       "      <td>0</td>\n",
       "      <td>0</td>\n",
       "      <td>0</td>\n",
       "      <td>0</td>\n",
       "      <td>0</td>\n",
       "      <td>0</td>\n",
       "      <td>0</td>\n",
       "      <td>0</td>\n",
       "      <td>0</td>\n",
       "      <td>0</td>\n",
       "      <td>0</td>\n",
       "      <td>0</td>\n",
       "      <td>0</td>\n",
       "      <td>0</td>\n",
       "      <td>0</td>\n",
       "      <td>1</td>\n",
       "      <td>0</td>\n",
       "      <td>0</td>\n",
       "      <td>0</td>\n",
       "      <td>Slowdive</td>\n",
       "      <td>Dead Oceans</td>\n",
       "    </tr>\n",
       "  </tbody>\n",
       "</table>\n",
       "</div>"
      ],
      "text/plain": [
       "      acousticness  danceability  energy  instrumentalness  liveness  \\\n",
       "3919      0.162000         0.181   0.486            0.2030    0.1110   \n",
       "3920      0.098700         0.172   0.745            0.0073    0.2350   \n",
       "3921      0.195000         0.129   0.647            0.2920    0.1040   \n",
       "3922      0.001370         0.431   0.482            0.4410    0.2380   \n",
       "3923      0.000057         0.227   0.480            0.8350    0.0477   \n",
       "\n",
       "                      name  valence  scaled_speech  scaled_duration  \\\n",
       "3919           Machine Gun   0.0545       0.152872         0.048459   \n",
       "3920               40 Days   0.4910       0.153282         0.035013   \n",
       "3921           Machine Gun   0.0393       0.156970         0.048824   \n",
       "3922  Ballad Of Sister Sue   0.1230       0.126232         0.049432   \n",
       "3923      Catch The Breeze   0.1880       0.159020         0.047115   \n",
       "\n",
       "      scaled_loudness  scaled_tempo  scaled_pop  A Minor  Ab Major  Ab Minor  \\\n",
       "3919         0.716686      0.633260        0.40        0         0         0   \n",
       "3920         0.774223      0.757644        0.37        0         0         0   \n",
       "3921         0.792687      0.633165        0.41        0         0         0   \n",
       "3922         0.816804      0.524579        0.38        0         0         0   \n",
       "3923         0.841203      0.379780        0.37        0         0         0   \n",
       "\n",
       "      B Major  B Minor  Bb Major  Bb Minor  C Major  C Minor  D Major  \\\n",
       "3919        0        0         0         0        0        0        0   \n",
       "3920        0        0         0         0        0        0        0   \n",
       "3921        0        0         0         0        0        0        0   \n",
       "3922        0        0         0         0        0        0        0   \n",
       "3923        0        0         0         0        0        0        0   \n",
       "\n",
       "      D Minor  Db Major  Db Minor  E Major  E Minor  Eb Major  Eb Minor  \\\n",
       "3919        0         0         0        0        0         0         0   \n",
       "3920        0         0         0        0        1         0         0   \n",
       "3921        0         0         0        0        0         0         0   \n",
       "3922        0         0         0        0        0         0         0   \n",
       "3923        0         0         0        0        0         0         0   \n",
       "\n",
       "      F Major  F Minor  F# Major  F# Minor  G Major  G Minor  1930s  1940s  \\\n",
       "3919        0        0         0         1        0        0      0      0   \n",
       "3920        0        0         0         0        0        0      0      0   \n",
       "3921        0        0         0         0        0        0      0      0   \n",
       "3922        0        0         0         1        0        0      0      0   \n",
       "3923        0        0         0         0        0        0      0      0   \n",
       "\n",
       "      1950s  1960s  1970s  1980s  1990s  2000s  2010s  2020s    artist  \\\n",
       "3919      0      0      0      0      1      0      0      0  Slowdive   \n",
       "3920      0      0      0      0      1      0      0      0  Slowdive   \n",
       "3921      0      0      0      0      1      0      0      0  Slowdive   \n",
       "3922      0      0      0      0      1      0      0      0  Slowdive   \n",
       "3923      0      0      0      0      1      0      0      0  Slowdive   \n",
       "\n",
       "            label  \n",
       "3919  Dead Oceans  \n",
       "3920  Dead Oceans  \n",
       "3921  Dead Oceans  \n",
       "3922  Dead Oceans  \n",
       "3923  Dead Oceans  "
      ]
     },
     "execution_count": 18,
     "metadata": {},
     "output_type": "execute_result"
    }
   ],
   "source": [
    "# dataframe of all Dead Oceans songs as a test sample\n",
    "ocean_df = labels_df[labels_df.label == 'Dead Oceans']\n",
    "ocean_df.head()"
   ]
  },
  {
   "cell_type": "markdown",
   "metadata": {},
   "source": [
    "### Cosine Similarities\n",
    "Calculate cosine similarities between user playlist and all Dead Oceans songs"
   ]
  },
  {
   "cell_type": "code",
   "execution_count": 19,
   "metadata": {},
   "outputs": [],
   "source": [
    "# turn both dataframes into numpy arrays\n",
    "playlist_array = np.array(playlist_df.drop(['decade','duration_ms','key','key_mode','letter_keys',\n",
    "                     'loudness','mode','modes','popularity','release_date','speechiness',\n",
    "                         'tempo','track/artist','year'], axis=1))\n",
    "\n",
    "label_array = np.array(ocean_df.drop(['artist','name','label'], axis=1))"
   ]
  },
  {
   "cell_type": "code",
   "execution_count": 20,
   "metadata": {
    "scrolled": false
   },
   "outputs": [
    {
     "name": "stdout",
     "output_type": "stream",
     "text": [
      "[0.41048198 0.46508308 0.50690708 0.38347746 0.38167026 0.47863051\n",
      " 0.389911   0.39059759 0.35573562 0.36883794 0.27732504 0.39653992\n",
      " 0.40443136 0.37710166 0.40054964 0.30535826 0.43224922 0.35005341\n",
      " 0.3650677  0.39990222 0.35987119 0.35287898 0.4347205  0.40957185\n",
      " 0.4273254  0.6799827  0.39989644 0.38722497 0.46576319 0.66389508\n",
      " 0.44183993 0.64154536 0.43386476 0.62117831 0.4472665  0.38027091\n",
      " 0.36413054 0.42236729 0.62774839 0.42997248 0.43353232 0.43207587\n",
      " 0.47329969 0.40911743 0.39949446 0.38289718 0.3508459  0.35654525\n",
      " 0.36190396 0.33774586 0.36539917 0.40163796 0.43061679 0.3559152\n",
      " 0.35101306 0.44434106 0.39586729 0.46860207 0.45046191 0.60696489\n",
      " 0.44746828 0.39339233 0.43816977 0.64842426 0.4429689  0.4227782\n",
      " 0.41794975 0.38316499 0.3656166  0.46221482 0.6138289  0.38686906\n",
      " 0.64005204 0.32723175 0.6693392  0.42299694 0.6051339  0.40815275\n",
      " 0.41238729 0.61936899 0.41138316]\n"
     ]
    }
   ],
   "source": [
    "# turn both arrays into sparse matrices\n",
    "playlist_sparse = sparse.csr_matrix(playlist_array)\n",
    "label_sparse = sparse.csr_matrix(label_array)\n",
    "\n",
    "# get cosine similarities between user playlist and record label\n",
    "cosim = cosine_similarity(playlist_sparse, label_sparse,dense_output=True)\n",
    "print(cosim[0])\n"
   ]
  },
  {
   "cell_type": "code",
   "execution_count": 21,
   "metadata": {},
   "outputs": [
    {
     "data": {
      "text/plain": [
       "(9, 44)"
      ]
     },
     "execution_count": 21,
     "metadata": {},
     "output_type": "execute_result"
    }
   ],
   "source": [
    "playlist_array.shape"
   ]
  },
  {
   "cell_type": "code",
   "execution_count": 22,
   "metadata": {},
   "outputs": [
    {
     "data": {
      "text/plain": [
       "(81, 44)"
      ]
     },
     "execution_count": 22,
     "metadata": {},
     "output_type": "execute_result"
    }
   ],
   "source": [
    "label_array.shape"
   ]
  },
  {
   "cell_type": "code",
   "execution_count": 23,
   "metadata": {},
   "outputs": [
    {
     "data": {
      "text/plain": [
       "(81, 47)"
      ]
     },
     "execution_count": 23,
     "metadata": {},
     "output_type": "execute_result"
    }
   ],
   "source": [
    "ocean_df.shape"
   ]
  },
  {
   "cell_type": "code",
   "execution_count": 24,
   "metadata": {},
   "outputs": [
    {
     "data": {
      "text/plain": [
       "(9, 58)"
      ]
     },
     "execution_count": 24,
     "metadata": {},
     "output_type": "execute_result"
    }
   ],
   "source": [
    "playlist_df.shape"
   ]
  },
  {
   "cell_type": "markdown",
   "metadata": {},
   "source": [
    "### Make Recommendations\n",
    "Sort by highest similarities and map the output to song names/artists"
   ]
  },
  {
   "cell_type": "code",
   "execution_count": 25,
   "metadata": {},
   "outputs": [
    {
     "name": "stdout",
     "output_type": "stream",
     "text": [
      "Dead Oceans songs similar to Polly - Moses Sumney :\n",
      "\n",
      "[(0.6799826957661531, 'A Perfect Sonnet', 'Bright Eyes'), (0.6693392046451008, 'Nobody', 'Mitski')]\n",
      "================================================================================================================\n",
      "Dead Oceans songs similar to Goodbye - Porches :\n",
      "\n",
      "[(0.7235321945507469, 'Day Glo', 'Brazos'), (0.6911031673391842, 'Kyoto', 'Phoebe Bridgers')]\n",
      "================================================================================================================\n",
      "Dead Oceans songs similar to rangerover - Porches :\n",
      "\n",
      "[(0.7543136314811328, 'At The Bottom Of Everything', 'Bright Eyes'), (0.748801127319026, 'June On The West Coast', 'Bright Eyes')]\n",
      "================================================================================================================\n",
      "Dead Oceans songs similar to Tal Uno - Barrie :\n",
      "\n",
      "[(0.6550584864922804, 'Evan Finds the Third Room', 'Khruangbin'), (0.6489500292716106, 'Sing', 'Slowdive')]\n",
      "================================================================================================================\n",
      "Dead Oceans songs similar to Angel's Song - Arlo Parks :\n",
      "\n",
      "[(0.6289516252365083, 'Sing', 'Slowdive'), (0.6170170076895379, 'Sing', 'Slowdive')]\n",
      "================================================================================================================\n",
      "Dead Oceans songs similar to Randy - Big Thief :\n",
      "\n",
      "[(0.5105669076285985, 'Evan Finds the Third Room', 'Khruangbin'), (0.5105604536560789, 'Dagger', 'Slowdive')]\n",
      "================================================================================================================\n",
      "Dead Oceans songs similar to Butterfly - Adrianne Lenker :\n",
      "\n",
      "[(0.6044762782627116, 'Four Winds', 'Bright Eyes'), (0.6036611249750693, 'Scott Street', 'Phoebe Bridgers')]\n",
      "================================================================================================================\n",
      "Dead Oceans songs similar to All of Me Wants All of You - Sufjan Stevens :\n",
      "\n",
      "[(0.6849153097599712, 'Sing', 'Slowdive'), (0.6628457323917466, 'Lower the Heavens', 'The Donkeys')]\n",
      "================================================================================================================\n",
      "Dead Oceans songs similar to Cola - Arlo Parks :\n",
      "\n",
      "[(0.6249944272182839, \"It's Gonna Take an Airplane\", 'Destroyer'), (0.6215120152405216, 'Evan Finds the Third Room', 'Khruangbin')]\n",
      "================================================================================================================\n"
     ]
    }
   ],
   "source": [
    "for i in range(len(cosim)):\n",
    "    print('Dead Oceans songs similar to', playlist_df.iloc[i]['track/artist'],':\\n' )\n",
    "    print(sorted(list(zip(cosim[i],ocean_df['name'], ocean_df['artist'])), reverse=True)[:2])\n",
    "    print('================================================================================================================')"
   ]
  },
  {
   "cell_type": "markdown",
   "metadata": {},
   "source": [
    "# Model Optimization\n",
    "Put it all in functions, and generalize to any record label. If music label is not provided, the function will return songs from the label that is most similar to user's given playlist."
   ]
  },
  {
   "cell_type": "markdown",
   "metadata": {},
   "source": [
    "### Function: Collect Data from Spotify API"
   ]
  },
  {
   "cell_type": "code",
   "execution_count": 26,
   "metadata": {},
   "outputs": [],
   "source": [
    "def spotifyAPI(playlist):\n",
    "    '''input: user playlist of songs (list) in format [song name - artist, song name - artist, etc]\n",
    "    Case insensitive.\n",
    "        output: Pandas dataframe of raw song attributes collected from Spotify'''\n",
    "\n",
    "    spotify = spotipy.Spotify(auth_manager=SpotifyClientCredentials())\n",
    "\n",
    "    # save song id's, release dates, and song popularity in lists\n",
    "    song_ids = []\n",
    "    release_dates = []\n",
    "    popularities = []\n",
    "    for song in playlist:\n",
    "        try:\n",
    "            results = spotify.search(q=song, type='track')\n",
    "            song_ids.append(results['tracks']['items'][0]['id'])\n",
    "            release_dates.append(results['tracks']['items'][0]['album']['release_date'])\n",
    "            popularities.append(results['tracks']['items'][0]['popularity'])\n",
    "        except:\n",
    "            print(\"Couldn't find:\", song, '\\n')\n",
    "            pass\n",
    "\n",
    "        \n",
    "    # use the song id's gathered above to get audio attributes for each song\n",
    "    attributes = spotify.audio_features(tracks=song_ids)\n",
    "    \n",
    "    # combine the song popularity and release dates with the rest of the attributes\n",
    "    for i in range(len(attributes)):\n",
    "        attributes[i]['track/artist'] = playlist[i]\n",
    "        attributes[i]['popularity'] = popularities[i]\n",
    "        attributes[i]['release_date'] = release_dates[i]\n",
    "\n",
    "    # create a dataframe from all the attributes\n",
    "    playlist_df = pd.DataFrame(attributes)\n",
    "    return playlist_df"
   ]
  },
  {
   "cell_type": "markdown",
   "metadata": {},
   "source": [
    "### Function: Clean and Prep Raw Dataframe"
   ]
  },
  {
   "cell_type": "code",
   "execution_count": 27,
   "metadata": {},
   "outputs": [],
   "source": [
    "def clean(playlist_df):\n",
    "    '''input: Pandas dataframe of raw spotify song attributes collected from Spotify API\n",
    "        output: Cleaned dataframe, with dummy variables and fewer unnecessary columns'''\n",
    "    \n",
    "    \n",
    "    # drop unecessary features \n",
    "    playlist_df.drop(['type', 'id', 'uri', 'track_href', 'analysis_url', 'time_signature'], axis=1, inplace=True)\n",
    "\n",
    "    # set release date as datetime\n",
    "    playlist_df['release_date'] = pd.to_datetime(playlist_df['release_date'])\n",
    "\n",
    "    # make year column datetime\n",
    "    playlist_df['year'] = playlist_df['release_date'].dt.year\n",
    "\n",
    "    # create decade column\n",
    "    playlist_df['decade'] = playlist_df['year'].apply(lambda x: str(x)[:3]+'0s')\n",
    "    \n",
    "    # change keys/mode to letter/maj/min representations\n",
    "    keys = {0:'C', 1:'Db',2:'D',3:'Eb',4:'E',5:'F',6:'F#',7:'G',8:'Ab',9:'A',10:'Bb',11:'B'}\n",
    "    modes = {0:'Minor',1:'Major'}\n",
    "\n",
    "    # create new column in df\n",
    "    playlist_df['letter_keys'] = playlist_df['key'].map(keys)\n",
    "    playlist_df['modes'] = playlist_df['mode'].map(modes)\n",
    "\n",
    "    # create a column that concatonates key with mode\n",
    "    playlist_df['key_mode'] = playlist_df['letter_keys'] + \" \" + playlist_df['modes']\n",
    "    \n",
    "    # Bring outliers down/up to 5 standard deviations from the mean\n",
    "    for feat in playlist_df.columns:\n",
    "        try:\n",
    "            abv_5_std = playlist_df[feat].mean()+ 5* playlist_df[feat].std()\n",
    "            below_5_std = playlist_df[feat].mean()- 5* playlist_df[feat].std()\n",
    "            conditions = [playlist_df[feat]>abv_5_std, playlist_df[feat]<below_5_std]\n",
    "            choices = [abv_5_std, below_5_std]\n",
    "            df[feat] = np.select(conditions, choices, playlist_df[feat])\n",
    "        except:\n",
    "            pass\n",
    "        \n",
    "    # Scale features down to 0-1\n",
    "    playlist_df['scaled_speech'] = (playlist_df['speechiness'] - min(playlist_df['speechiness'])) / (max(playlist_df['speechiness']) - min(playlist_df['speechiness']))\n",
    "    playlist_df['scaled_duration'] = (playlist_df['duration_ms'] - min(playlist_df['duration_ms'])) / (max(playlist_df['duration_ms']) - min(playlist_df['duration_ms']))\n",
    "    playlist_df['scaled_loudness'] = (playlist_df['loudness'] - min(playlist_df['loudness'])) / (max(playlist_df['loudness']) - min(playlist_df['loudness']))\n",
    "    playlist_df['scaled_tempo'] = (playlist_df['tempo'] - min(playlist_df['tempo'])) / (max(playlist_df['tempo']) - min(playlist_df['tempo']))\n",
    "    playlist_df['scaled_pop'] = (playlist_df['popularity'] - min(playlist_df['popularity'])) / (max(playlist_df['popularity']) - min(playlist_df['popularity']))\n",
    "\n",
    "    # all the dummies from the big dataset\n",
    "    all_dummies = ['A Major', 'A Minor',\n",
    "           'Ab Major', 'Ab Minor', 'B Major', 'B Minor', 'Bb Major', 'Bb Minor',\n",
    "           'C Major', 'C Minor', 'D Major', 'D Minor', 'Db Major', 'Db Minor',\n",
    "           'E Major', 'E Minor', 'Eb Major', 'Eb Minor', 'F Major', 'F Minor',\n",
    "           'F# Major', 'F# Minor', 'G Major', 'G Minor', '1920s', '1930s', '1940s',\n",
    "           '1950s', '1960s', '1970s', '1980s', '1990s', '2000s', '2010s', '2020s']\n",
    "\n",
    "    # make dummies for key/mode and decades\n",
    "    key_dummies = pd.get_dummies(playlist_df['key_mode'])\n",
    "    decade_dummies = pd.get_dummies(playlist_df['decade'])\n",
    "    dummies = pd.concat([ key_dummies, decade_dummies], axis=1)\n",
    "\n",
    "    # check which dummies weren't created - we need to add these in as zeros so the dataframes have the same shape\n",
    "    playlist_df = pd.concat([playlist_df, key_dummies, decade_dummies], axis=1)\n",
    "    zeroes = list(set(all_dummies) - set(dummies.columns))\n",
    "\n",
    "    # add those dummies in as zeroes\n",
    "    for col in zeroes:\n",
    "        playlist_df[col] = 0\n",
    "\n",
    "    # drop first column for dummies\n",
    "    playlist_df.drop(['A Major', '1920s'],axis=1, inplace=True)\n",
    "    return(playlist_df)"
   ]
  },
  {
   "cell_type": "markdown",
   "metadata": {},
   "source": [
    "### Function: Make Recommendations"
   ]
  },
  {
   "cell_type": "code",
   "execution_count": 28,
   "metadata": {},
   "outputs": [],
   "source": [
    "def get_recs(playlist, record_label=None):\n",
    "    '''input 1: user playlist of songs (list) in format \n",
    "            [song name - artist, song name - artist, etc.] Case insensitive.\n",
    "    input 2: (optional) record label name (string.) If record label not provided,\n",
    "        function will use label that is most similar to user's given playlist.\n",
    "    output: Playlist (text output) including Record label name, and recommended songs\n",
    "        '''\n",
    "    \n",
    "    # collect and clean spotify data based on user's playlist\n",
    "    raw_playlist_df = spotifyAPI(playlist)\n",
    "    clean_playlist_df = clean(raw_playlist_df)\n",
    "\n",
    "    # import record labels dataset\n",
    "    labels_df = pd.read_csv('data/cleaned_data_labels.csv',index_col=[0])\n",
    "\n",
    "    # drop unnecesary features\n",
    "    labels_df.drop(['key_mode', 'decade', 'modes', 'letter_keys',  'year', \n",
    "             'release_date', 'mode', 'loudness', 'key', 'id', 'explicit', \n",
    "             'tempo', 'duration_ms', 'speechiness', 'popularity' ], axis=1, inplace=True)\n",
    "    \n",
    "    label_pool=[]\n",
    "    if not record_label:\n",
    "        label_pool = labels_df.label.unique()\n",
    "    else:\n",
    "        label_pool.append(record_label)    \n",
    "    \n",
    "    label_dict={}\n",
    "    for label in label_pool:\n",
    "        # dataframe of all specified label's songs\n",
    "        label_df = labels_df[labels_df.label == label]\n",
    "\n",
    "        # turn both dataframes into numpy arrays\n",
    "        playlist_array = np.array(clean_playlist_df.drop(['decade','duration_ms','key','key_mode','letter_keys',\n",
    "                             'loudness','mode','modes','popularity','release_date','speechiness',\n",
    "                                 'tempo','track/artist','year'], axis=1))\n",
    "        label_array = np.array(label_df.drop(['artist','name','label'], axis=1))\n",
    "\n",
    "        # turn both arrays into sparse matrices\n",
    "        playlist_sparse = sparse.csr_matrix(playlist_array)\n",
    "        label_sparse = sparse.csr_matrix(label_array)\n",
    "\n",
    "        # get cosine similarities between user playlist and record label\n",
    "        # cosim contains three arrays, one for each song from user playlist\n",
    "        label_dict[label] =cosine_similarity(playlist_sparse, label_sparse,dense_output=True) \n",
    "\n",
    "    # flatten each song cosim per label and put in dictionary\n",
    "    mean_cosims ={}\n",
    "    for key in label_dict:\n",
    "        flattened_cosim = [item for items in label_dict[key] for item in items]\n",
    "        mean_cosims[statistics.mean(flattened_cosim)]=key\n",
    "    \n",
    "    # find best record label by getting one with largest avg cosine sim\n",
    "    best_label = (mean_cosims[max(mean_cosims)])\n",
    "    label_df = labels_df[labels_df.label == best_label]\n",
    "    song_cosims = label_dict[best_label]\n",
    "    \n",
    "    # go through best label and get track name and artist with highest cosim\n",
    "    recs=[]\n",
    "    for song_cosim in song_cosims:\n",
    "        two_recs = sorted(list(zip(song_cosim,label_df['name'], label_df['artist'])), reverse=True)[:2]\n",
    "        recs.append((two_recs[0][1]+', by '+two_recs[0][2]))\n",
    "        recs.append((two_recs[1][1]+', by '+two_recs[1][2]))\n",
    "\n",
    "    # output the results, removing duplicates\n",
    "    if not record_label:\n",
    "        print(\"We think you're gonna like\",best_label,'records!')\n",
    "    print(best_label,'songs similar to your playlist:\\n')\n",
    "    for song in list(set(recs)):\n",
    "        print(song)"
   ]
  },
  {
   "cell_type": "markdown",
   "metadata": {},
   "source": [
    "### Testing"
   ]
  },
  {
   "cell_type": "code",
   "execution_count": 347,
   "metadata": {},
   "outputs": [
    {
     "name": "stdout",
     "output_type": "stream",
     "text": [
      "Couldn't find: I Think I Smell A Rat - The White Stripes \n",
      "\n",
      "We think you're gonna like XL records!\n",
      "XL songs similar to your playlist:\n",
      "\n",
      "Daydreaming, by Radiohead\n",
      "Sunflower (feat. Steve Lacy), by Vampire Weekend\n",
      "Rolling in the Deep, by Adele\n",
      "Is That Jazz?, by Gil Scott-Heron\n",
      "When I Hear My Name, by The White Stripes\n",
      "Everlasting Arms, by Vampire Weekend\n",
      "Rolling In The Deep, by Adele\n",
      "Shabop Shalom, by Devendra Banhart\n"
     ]
    }
   ],
   "source": [
    "# feed in XL Records songs, to see if we get songs from XL records back\n",
    "XL_playlist = [\"Shabop Shalom - Devendra Banhart\", \"jasmine - demo - Jai Paul\",\n",
    "               \"I Think I Smell A Rat - The White Stripes\", \"Hometown Glory - Adele\",\n",
    "                \"Close To You - The Avalanches\"]\n",
    "get_recs(XL_playlist)"
   ]
  },
  {
   "cell_type": "markdown",
   "metadata": {},
   "source": [
    "# Cluster-Based Recommendation\n",
    "Now we use k-means clustering to generate recommendations\n",
    "### Get a Sample Playlist"
   ]
  },
  {
   "cell_type": "code",
   "execution_count": 329,
   "metadata": {},
   "outputs": [],
   "source": [
    "ismael_playlist = ['believe - mumford & sons', 'remembering sunday - all time low', \n",
    "                   'should have known better - sufjan stevens']"
   ]
  },
  {
   "cell_type": "code",
   "execution_count": 205,
   "metadata": {},
   "outputs": [],
   "source": [
    "# Use the above functions to collect song attributes and clean data from Spotify API\n",
    "raw_playlist_df = spotifyAPI(ismael_playlist)\n",
    "playlist_df = clean(raw_playlist_df)\n",
    "\n",
    "# create name and artist columns from track/artist\n",
    "playlist_df['name'] = playlist_df['track/artist'].apply(lambda x: x.split(' - ')[0])\n",
    "playlist_df['artist'] = playlist_df['track/artist'].apply(lambda x: x.split(' - ')[1])\n",
    "\n",
    "# label each playlist song in new column\n",
    "playlist_df['playlist_track'] = 1\n",
    "\n",
    "# drop unnecessary features\n",
    "playlist_df.drop(['track/artist','decade','duration_ms','key','key_mode','letter_keys',\n",
    "                     'loudness','mode','modes','popularity','release_date','speechiness',\n",
    "                         'tempo','year'], axis=1, inplace=True)\n",
    "label_df = ocean_df.drop(['label'], axis=1)\n",
    "\n",
    "# label each label track as 0 in the playlist column\n",
    "label_df['playlist_track'] = 0"
   ]
  },
  {
   "cell_type": "code",
   "execution_count": 206,
   "metadata": {},
   "outputs": [],
   "source": [
    "# concat playlist and label dataframes\n",
    "main_df = pd.concat([playlist_df, label_df], axis=0).reset_index(drop=True)\n",
    "\n",
    "# convert main dataframe to array\n",
    "main_array = np.array(main_df.drop(['name', 'artist','playlist_track'], axis=1))"
   ]
  },
  {
   "cell_type": "markdown",
   "metadata": {},
   "source": [
    "### K-Means Clustering"
   ]
  },
  {
   "cell_type": "code",
   "execution_count": 237,
   "metadata": {},
   "outputs": [
    {
     "data": {
      "text/plain": [
       "array([7, 2, 1, 6, 5, 6, 6, 6, 5, 6, 0, 0, 6, 6, 5, 5, 6, 6, 6, 6, 6, 0,\n",
       "       5, 6, 6, 2, 8, 8, 4, 2, 2, 2, 2, 2, 2, 4, 4, 2, 8, 8, 2, 2, 2, 3,\n",
       "       3, 3, 8, 9, 9, 0, 9, 9, 9, 9, 9, 7, 9, 9, 1, 1, 0, 0, 4, 1, 2, 3,\n",
       "       2, 8, 7, 3, 2, 7, 7, 7, 7, 7, 7, 7, 3, 2, 1, 3, 1, 2], dtype=int32)"
      ]
     },
     "execution_count": 237,
     "metadata": {},
     "output_type": "execute_result"
    }
   ],
   "source": [
    "# instantiate kmeans class and set n_clusters\n",
    "k_means = KMeans(random_state=1, n_clusters=10) # default n_clusters = 8\n",
    "\n",
    "# fit to data\n",
    "k_means.fit(main_array)\n",
    "\n",
    "# predict which clusters each song belongs too\n",
    "predicted_clusters = k_means.fit_predict(main_array)\n",
    "\n",
    "# each instance was assigned to one of the clusters\n",
    "predicted_clusters "
   ]
  },
  {
   "cell_type": "code",
   "execution_count": 238,
   "metadata": {
    "scrolled": true
   },
   "outputs": [],
   "source": [
    "# concatenate cluster labels with main dataframe\n",
    "pred_series = pd.Series(predicted_clusters)\n",
    "main_df_w_pred = pd.concat([main_df, pred_series], axis=1)\n",
    "main_df_w_pred.rename(columns={0:'cluster'},inplace=True)"
   ]
  },
  {
   "cell_type": "markdown",
   "metadata": {},
   "source": [
    "### Inspect Each Cluster"
   ]
  },
  {
   "cell_type": "code",
   "execution_count": 239,
   "metadata": {},
   "outputs": [
    {
     "data": {
      "text/html": [
       "<div>\n",
       "<style scoped>\n",
       "    .dataframe tbody tr th:only-of-type {\n",
       "        vertical-align: middle;\n",
       "    }\n",
       "\n",
       "    .dataframe tbody tr th {\n",
       "        vertical-align: top;\n",
       "    }\n",
       "\n",
       "    .dataframe thead th {\n",
       "        text-align: right;\n",
       "    }\n",
       "</style>\n",
       "<table border=\"1\" class=\"dataframe\">\n",
       "  <thead>\n",
       "    <tr style=\"text-align: right;\">\n",
       "      <th></th>\n",
       "      <th>name</th>\n",
       "      <th>artist</th>\n",
       "      <th>cluster</th>\n",
       "      <th>playlist_track</th>\n",
       "    </tr>\n",
       "  </thead>\n",
       "  <tbody>\n",
       "    <tr>\n",
       "      <th>10</th>\n",
       "      <td>When the Sun Hits</td>\n",
       "      <td>Slowdive</td>\n",
       "      <td>0</td>\n",
       "      <td>0</td>\n",
       "    </tr>\n",
       "    <tr>\n",
       "      <th>11</th>\n",
       "      <td>Slowdive</td>\n",
       "      <td>Slowdive</td>\n",
       "      <td>0</td>\n",
       "      <td>0</td>\n",
       "    </tr>\n",
       "    <tr>\n",
       "      <th>21</th>\n",
       "      <td>When the Sun Hits</td>\n",
       "      <td>Slowdive</td>\n",
       "      <td>0</td>\n",
       "      <td>0</td>\n",
       "    </tr>\n",
       "    <tr>\n",
       "      <th>49</th>\n",
       "      <td>So We Won't Forget</td>\n",
       "      <td>Khruangbin</td>\n",
       "      <td>0</td>\n",
       "      <td>0</td>\n",
       "    </tr>\n",
       "    <tr>\n",
       "      <th>60</th>\n",
       "      <td>I See You</td>\n",
       "      <td>Phoebe Bridgers</td>\n",
       "      <td>0</td>\n",
       "      <td>0</td>\n",
       "    </tr>\n",
       "    <tr>\n",
       "      <th>61</th>\n",
       "      <td>Kyoto</td>\n",
       "      <td>Phoebe Bridgers</td>\n",
       "      <td>0</td>\n",
       "      <td>0</td>\n",
       "    </tr>\n",
       "  </tbody>\n",
       "</table>\n",
       "</div>"
      ],
      "text/plain": [
       "                  name           artist  cluster  playlist_track\n",
       "10   When the Sun Hits         Slowdive        0               0\n",
       "11            Slowdive         Slowdive        0               0\n",
       "21   When the Sun Hits         Slowdive        0               0\n",
       "49  So We Won't Forget       Khruangbin        0               0\n",
       "60           I See You  Phoebe Bridgers        0               0\n",
       "61               Kyoto  Phoebe Bridgers        0               0"
      ]
     },
     "execution_count": 239,
     "metadata": {},
     "output_type": "execute_result"
    }
   ],
   "source": [
    "# Inspect songs in cluster 0\n",
    "main_df_w_pred[['name', 'artist', 'cluster', 'playlist_track']][main_df_w_pred.cluster==0]"
   ]
  },
  {
   "cell_type": "code",
   "execution_count": 240,
   "metadata": {
    "scrolled": true
   },
   "outputs": [
    {
     "data": {
      "text/html": [
       "<div>\n",
       "<style scoped>\n",
       "    .dataframe tbody tr th:only-of-type {\n",
       "        vertical-align: middle;\n",
       "    }\n",
       "\n",
       "    .dataframe tbody tr th {\n",
       "        vertical-align: top;\n",
       "    }\n",
       "\n",
       "    .dataframe thead th {\n",
       "        text-align: right;\n",
       "    }\n",
       "</style>\n",
       "<table border=\"1\" class=\"dataframe\">\n",
       "  <thead>\n",
       "    <tr style=\"text-align: right;\">\n",
       "      <th></th>\n",
       "      <th>name</th>\n",
       "      <th>artist</th>\n",
       "      <th>cluster</th>\n",
       "      <th>playlist_track</th>\n",
       "    </tr>\n",
       "  </thead>\n",
       "  <tbody>\n",
       "    <tr>\n",
       "      <th>2</th>\n",
       "      <td>should have known better</td>\n",
       "      <td>sufjan stevens</td>\n",
       "      <td>1</td>\n",
       "      <td>1</td>\n",
       "    </tr>\n",
       "    <tr>\n",
       "      <th>58</th>\n",
       "      <td>Scott Street</td>\n",
       "      <td>Phoebe Bridgers</td>\n",
       "      <td>1</td>\n",
       "      <td>0</td>\n",
       "    </tr>\n",
       "    <tr>\n",
       "      <th>59</th>\n",
       "      <td>Smoke Signals</td>\n",
       "      <td>Phoebe Bridgers</td>\n",
       "      <td>1</td>\n",
       "      <td>0</td>\n",
       "    </tr>\n",
       "    <tr>\n",
       "      <th>63</th>\n",
       "      <td>Motion Sickness</td>\n",
       "      <td>Phoebe Bridgers</td>\n",
       "      <td>1</td>\n",
       "      <td>0</td>\n",
       "    </tr>\n",
       "    <tr>\n",
       "      <th>80</th>\n",
       "      <td>Swing Lo Magellan</td>\n",
       "      <td>Dirty Projectors</td>\n",
       "      <td>1</td>\n",
       "      <td>0</td>\n",
       "    </tr>\n",
       "    <tr>\n",
       "      <th>82</th>\n",
       "      <td>I Hear You Calling</td>\n",
       "      <td>Bill Fay</td>\n",
       "      <td>1</td>\n",
       "      <td>0</td>\n",
       "    </tr>\n",
       "  </tbody>\n",
       "</table>\n",
       "</div>"
      ],
      "text/plain": [
       "                        name            artist  cluster  playlist_track\n",
       "2   should have known better    sufjan stevens        1               1\n",
       "58              Scott Street   Phoebe Bridgers        1               0\n",
       "59             Smoke Signals   Phoebe Bridgers        1               0\n",
       "63           Motion Sickness   Phoebe Bridgers        1               0\n",
       "80         Swing Lo Magellan  Dirty Projectors        1               0\n",
       "82        I Hear You Calling          Bill Fay        1               0"
      ]
     },
     "execution_count": 240,
     "metadata": {},
     "output_type": "execute_result"
    }
   ],
   "source": [
    "main_df_w_pred[['name', 'artist', 'cluster','playlist_track']][main_df_w_pred.cluster==1]"
   ]
  },
  {
   "cell_type": "markdown",
   "metadata": {},
   "source": [
    "### Make Recommendations"
   ]
  },
  {
   "cell_type": "code",
   "execution_count": 255,
   "metadata": {},
   "outputs": [],
   "source": [
    "relevant_clusters = main_df_w_pred['cluster'][main_df_w_pred.playlist_track==1]\n",
    "pred_df = main_df_w_pred.drop(main_df_w_pred[main_df_w_pred.playlist_track==1].index)"
   ]
  },
  {
   "cell_type": "code",
   "execution_count": 339,
   "metadata": {},
   "outputs": [
    {
     "name": "stdout",
     "output_type": "stream",
     "text": [
      "Dead Oceans songs similar to your playlist:\n",
      "\n",
      "Last Words of a Shooting Star, by Mitski\n",
      "First Love / Late Spring, by Mitski\n",
      "It's Gonna Take an Airplane, by Destroyer\n",
      "Devil Town, by Bright Eyes\n",
      "Scott Street, by Phoebe Bridgers\n",
      "Motion Sickness, by Phoebe Bridgers\n"
     ]
    }
   ],
   "source": [
    "recs=[]\n",
    "for k in relevant_clusters:\n",
    "    recs +=pred_df[['name', 'artist']][pred_df.cluster==k].sample(2, random_state=543).values.tolist()\n",
    "\n",
    "print('Dead Oceans songs similar to your playlist:\\n')\n",
    "for song in recs:\n",
    "    print(song[0]+', by '+ song[1])"
   ]
  },
  {
   "cell_type": "markdown",
   "metadata": {},
   "source": [
    "### Visualize Clusters - need to work on this"
   ]
  },
  {
   "cell_type": "code",
   "execution_count": 217,
   "metadata": {},
   "outputs": [],
   "source": [
    "# get cluster centers from .cluster_centers_ attribute\n",
    "centers = k_means.cluster_centers_"
   ]
  },
  {
   "cell_type": "code",
   "execution_count": 218,
   "metadata": {},
   "outputs": [
    {
     "data": {
      "image/png": "[encoded data removed]",
      "text/plain": [
       "<Figure size 1440x1080 with 1 Axes>"
      ]
     },
     "metadata": {},
     "output_type": "display_data"
    }
   ],
   "source": [
    "# scatter plot of clusters and their centroids.\n",
    "plt.figure(figsize=(20,15))\n",
    "plt.scatter(main_array[:,0], main_array[:,1], c=predicted_clusters, s=30);\n",
    "# plt.scatter(playlist_array[:,0], playlist_array[:,1], c='b', s=10);\n",
    "plt.scatter(centers[:,0], centers[:,1], s=70, c='red');"
   ]
  },
  {
   "cell_type": "markdown",
   "metadata": {},
   "source": [
    "### Inspect Distortion"
   ]
  },
  {
   "cell_type": "code",
   "execution_count": 178,
   "metadata": {},
   "outputs": [],
   "source": [
    "# use distortion as metric to classify similarities betwen songs within df\n",
    "distortion = []\n",
    "for k in range(1, 26):  \n",
    "    kmeans = KMeans(n_clusters = k)\n",
    "    kmeans.fit(label_array)\n",
    "    distortion.append(kmeans.inertia_) # inertia_: sum of squared distances of samples to their closest cluster center"
   ]
  },
  {
   "cell_type": "code",
   "execution_count": 179,
   "metadata": {},
   "outputs": [
    {
     "data": {
      "image/png": "[encoded data removed]",
      "text/plain": [
       "<Figure size 720x432 with 1 Axes>"
      ]
     },
     "metadata": {},
     "output_type": "display_data"
    }
   ],
   "source": [
    "# try elbow plot to find best k for this cluster\n",
    "fig = plt.figure(figsize=(10, 6))\n",
    "plt.plot(range(1, 26), distortion, c = 'b')\n",
    "plt.xlabel('Number of Clusters')\n",
    "plt.ylabel('Distortion')\n",
    "plt.title('Elbow curve')\n",
    "plt.show()"
   ]
  },
  {
   "cell_type": "markdown",
   "metadata": {},
   "source": [
    "# Clustering Optimization\n",
    "Put it all in a function to generalize for any music label and playlist"
   ]
  },
  {
   "cell_type": "code",
   "execution_count": null,
   "metadata": {},
   "outputs": [],
   "source": [
    "def cluster_recs(playlist, label):"
   ]
  },
  {
   "cell_type": "code",
   "execution_count": 343,
   "metadata": {},
   "outputs": [],
   "source": [
    "# in progress"
   ]
  },
  {
   "cell_type": "code",
   "execution_count": null,
   "metadata": {},
   "outputs": [],
   "source": []
  },
  {
   "cell_type": "markdown",
   "metadata": {},
   "source": [
    "# Model Evaluation & A/B Testing\n",
    "Using empirical evaluation methods to compare the recommenders"
   ]
  },
  {
   "cell_type": "markdown",
   "metadata": {},
   "source": [
    "### Khyatee\n",
    "Cosim Model:"
   ]
  },
  {
   "cell_type": "code",
   "execution_count": 344,
   "metadata": {
    "scrolled": true
   },
   "outputs": [
    {
     "name": "stdout",
     "output_type": "stream",
     "text": [
      "Fat Possum songs similar to your playlist:\n",
      "\n",
      "No Bones, by Dinosaur Jr.\n",
      "Come Together, by Syl Johnson\n",
      "I'm Not the One, by The Black Keys\n",
      "Get Me, by Dinosaur Jr.\n",
      "Be Here to Love Me, by Townes Van Zandt\n",
      "Run On, by John Lee Hooker\n",
      "A New Leaf, by John Lee Hooker\n",
      "10 A.M. Automatic, by The Black Keys\n",
      "Mr. Mudd & Mr. Gold - Live, by Townes Van Zandt\n",
      "Debora, by T. Rex\n",
      "Girl - Remastered, by T. Rex\n",
      "Our Swords, by Band of Horses\n",
      "Strange Times, by The Black Keys\n"
     ]
    }
   ],
   "source": [
    "khyatees_playlist = ['Polly - Moses Sumney', 'Goodbye - Porches','Tal Uno - Barrie',\n",
    "               'Randy - Big Thief', 'Butterfly - Adrianne Lenker',\n",
    "               'All of Me Wants All of You - Sufjan Stevens','Cola - Arlo Parks']\n",
    "\n",
    "get_recs(khyatees_playlist, 'Fat Possum')\n"
   ]
  },
  {
   "cell_type": "markdown",
   "metadata": {},
   "source": [
    "Clustering Model:"
   ]
  },
  {
   "cell_type": "code",
   "execution_count": null,
   "metadata": {},
   "outputs": [],
   "source": [
    "# test kmeans model here"
   ]
  },
  {
   "cell_type": "markdown",
   "metadata": {},
   "source": [
    "### J-Will"
   ]
  },
  {
   "cell_type": "code",
   "execution_count": null,
   "metadata": {},
   "outputs": [],
   "source": [
    "# cosim model"
   ]
  },
  {
   "cell_type": "code",
   "execution_count": null,
   "metadata": {},
   "outputs": [],
   "source": [
    "# cluster model"
   ]
  },
  {
   "cell_type": "markdown",
   "metadata": {},
   "source": [
    "### Fangfang\n",
    "Cosim Model:"
   ]
  },
  {
   "cell_type": "code",
   "execution_count": 341,
   "metadata": {
    "scrolled": true
   },
   "outputs": [
    {
     "name": "stdout",
     "output_type": "stream",
     "text": [
      "We think you're gonna like Third Man records!\n",
      "Third Man songs similar to your playlist:\n",
      "\n",
      "On a Monday (I'm Almost Done), by Lead Belly\n",
      "Hope, by Jack Johnson\n",
      "Goodbye, Little Darlin', Goodbye, by Johnny Cash\n",
      "Situations, by Jack Johnson\n",
      "Burning Hell, by John Lee Hooker\n",
      "Smokestack Lightnin', by Howlin' Wolf\n"
     ]
    }
   ],
   "source": [
    "fangfang_playlist = [\"lost in yesterday - tame impala\", \"maria también - khruangbin\",\n",
    "                    \"girl - the internet\"]\n",
    "get_recs(fangfang_playlist)"
   ]
  },
  {
   "cell_type": "code",
   "execution_count": null,
   "metadata": {},
   "outputs": [],
   "source": [
    "# cluster model"
   ]
  },
  {
   "cell_type": "markdown",
   "metadata": {},
   "source": [
    "### Ismael\n",
    "Cosim Model:"
   ]
  },
  {
   "cell_type": "code",
   "execution_count": 342,
   "metadata": {},
   "outputs": [
    {
     "name": "stdout",
     "output_type": "stream",
     "text": [
      "Dead Oceans songs similar to your playlist:\n",
      "\n",
      "It's Gonna Take an Airplane, by Destroyer\n",
      "I Hear You Calling, by Bill Fay\n",
      "Haligh, Haligh, A Lie, Haligh, by Bright Eyes\n",
      "Day Glo, by Brazos\n"
     ]
    }
   ],
   "source": [
    "ismael_playlist = ['believe - mumford & sons', 'remembering sunday - all time low', \n",
    "                   'should have known better - sufjan stevens']\n",
    "get_recs(ismael_playlist, 'Dead Oceans')"
   ]
  },
  {
   "cell_type": "code",
   "execution_count": 346,
   "metadata": {},
   "outputs": [],
   "source": [
    "# cluster model"
   ]
  },
  {
   "cell_type": "code",
   "execution_count": null,
   "metadata": {},
   "outputs": [],
   "source": []
  }
 ],
 "metadata": {
  "kernelspec": {
   "display_name": "Python 3",
   "language": "python",
   "name": "python3"
  },
  "language_info": {
   "codemirror_mode": {
    "name": "ipython",
    "version": 3
   },
   "file_extension": ".py",
   "mimetype": "text/x-python",
   "name": "python",
   "nbconvert_exporter": "python",
   "pygments_lexer": "ipython3",
   "version": "3.6.9"
  }
 },
 "nbformat": 4,
 "nbformat_minor": 4
}
