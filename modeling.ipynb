{
 "cells": [
  {
   "cell_type": "markdown",
   "metadata": {},
   "source": [
    "# Building a Spotify Recommendation Engine for Music Labels\n",
    "## Recommendation and Clustering\n",
    "### Flatiron School Data Science Program Phase 4 Project<br>Justin Williams & Khyatee Desai"
   ]
  },
  {
   "cell_type": "code",
   "execution_count": 1,
   "metadata": {},
   "outputs": [],
   "source": [
    "import pandas as pd\n",
    "import numpy as np\n",
    "import requests\n",
    "from bs4 import BeautifulSoup\n",
    "from zipfile import ZipFile \n",
    "from sklearn import set_config\n",
    "set_config(print_changed_only=False, display=None)\n",
    "pd.set_option('display.max_columns', None)\n",
    "import matplotlib.pyplot as plt\n",
    "% matplotlib inline\n",
    "import seaborn as sns\n",
    "sns.set_style('darkgrid')\n",
    "import warnings\n",
    "warnings.filterwarnings('ignore')\n",
    "from sklearn.metrics.pairwise import cosine_similarity\n",
    "from scipy import sparse\n",
    "import spotipy\n",
    "from spotipy.oauth2 import SpotifyClientCredentials\n",
    "import os\n",
    "import sys"
   ]
  },
  {
   "cell_type": "markdown",
   "metadata": {},
   "source": [
    "# Spotify API"
   ]
  },
  {
   "cell_type": "code",
   "execution_count": 2,
   "metadata": {},
   "outputs": [],
   "source": [
    "# create a sample playlist\n",
    "playlist = ['Polly - Moses Sumney', 'Goodbye - Porches','rangerover - Porches','Tal Uno - Barrie',\n",
    "               \"Angel's Song - Arlo Parks\",'Randy - Big Thief', 'Butterfly - Adrianne Lenker',\n",
    "               'All of Me Wants All of You - Sufjan Stevens','Cola - Arlo Parks']"
   ]
  },
  {
   "cell_type": "markdown",
   "metadata": {},
   "source": [
    "### Get spotify id's for each song"
   ]
  },
  {
   "cell_type": "code",
   "execution_count": 3,
   "metadata": {
    "scrolled": false
   },
   "outputs": [],
   "source": [
    "# save my credentials\n",
    "os.environ[\"SPOTIPY_CLIENT_ID\"] = \"a8561b2ef375442f8f89527b255f4c78\"\n",
    "os.environ[\"SPOTIPY_CLIENT_SECRET\"] = \"566a59fd72764b9580f8767c5bc0ca7f\"\n",
    "\n",
    "spotify = spotipy.Spotify(auth_manager=SpotifyClientCredentials())\n",
    "\n",
    "# save song id's, release dates, and song popularity in lists\n",
    "song_ids = []\n",
    "release_dates = []\n",
    "popularities = []\n",
    "for song in playlist:\n",
    "    results = spotify.search(q=song, type='track')\n",
    "    song_ids.append(results['tracks']['items'][0]['id'])\n",
    "    release_dates.append(results['tracks']['items'][0]['album']['release_date'])\n",
    "    popularities.append(results['tracks']['items'][0]['popularity'])"
   ]
  },
  {
   "cell_type": "markdown",
   "metadata": {},
   "source": [
    "### Retrieve Song attributes for each song"
   ]
  },
  {
   "cell_type": "code",
   "execution_count": 4,
   "metadata": {},
   "outputs": [
    {
     "data": {
      "text/plain": [
       "{'danceability': 0.389,\n",
       " 'energy': 0.258,\n",
       " 'key': 10,\n",
       " 'loudness': -11.534,\n",
       " 'mode': 1,\n",
       " 'speechiness': 0.0315,\n",
       " 'acousticness': 0.927,\n",
       " 'instrumentalness': 5.2e-05,\n",
       " 'liveness': 0.0906,\n",
       " 'valence': 0.195,\n",
       " 'tempo': 137.831,\n",
       " 'type': 'audio_features',\n",
       " 'id': '6LQOd5wz3RmBFFZxdhSfLT',\n",
       " 'uri': 'spotify:track:6LQOd5wz3RmBFFZxdhSfLT',\n",
       " 'track_href': 'https://api.spotify.com/v1/tracks/6LQOd5wz3RmBFFZxdhSfLT',\n",
       " 'analysis_url': 'https://api.spotify.com/v1/audio-analysis/6LQOd5wz3RmBFFZxdhSfLT',\n",
       " 'duration_ms': 218413,\n",
       " 'time_signature': 4}"
      ]
     },
     "execution_count": 4,
     "metadata": {},
     "output_type": "execute_result"
    }
   ],
   "source": [
    "# use the song id's gathered above to get audio attributes for each song\n",
    "attributes = spotify.audio_features(tracks=song_ids)\n",
    "attributes[0]"
   ]
  },
  {
   "cell_type": "code",
   "execution_count": 5,
   "metadata": {},
   "outputs": [],
   "source": [
    "# combine the song popularity and release dates with the rest of the attributes\n",
    "for i in range(len(attributes)):\n",
    "    attributes[i]['track/artist'] = playlist[i]\n",
    "    attributes[i]['popularity'] = popularities[i]\n",
    "    attributes[i]['release_date'] = release_dates[i]\n",
    "    \n",
    "# create a dataframe from all the attributes\n",
    "playlist_df = pd.DataFrame(attributes)"
   ]
  },
  {
   "cell_type": "markdown",
   "metadata": {},
   "source": [
    "# Clean Spotify Data"
   ]
  },
  {
   "cell_type": "markdown",
   "metadata": {},
   "source": [
    "### Create Decade Column"
   ]
  },
  {
   "cell_type": "code",
   "execution_count": 6,
   "metadata": {},
   "outputs": [],
   "source": [
    "# drop unecessary features \n",
    "playlist_df.drop(['type', 'id', 'uri', 'track_href', 'analysis_url', 'time_signature'], axis=1, inplace=True)\n",
    "\n",
    "# set release date as datetime\n",
    "playlist_df['release_date'] = pd.to_datetime(playlist_df['release_date'])\n",
    "\n",
    "# make year column datetime\n",
    "playlist_df['year'] = playlist_df['release_date'].dt.year\n",
    "\n",
    "# create decade column\n",
    "playlist_df['decade'] = playlist_df['year'].apply(lambda x: str(x)[:3]+'0s')"
   ]
  },
  {
   "cell_type": "markdown",
   "metadata": {},
   "source": [
    "### Map Keys/Modes to make more interpretable"
   ]
  },
  {
   "cell_type": "code",
   "execution_count": 7,
   "metadata": {},
   "outputs": [
    {
     "data": {
      "text/plain": [
       "B     33.33\n",
       "E     22.22\n",
       "G     11.11\n",
       "D     11.11\n",
       "C     11.11\n",
       "Bb    11.11\n",
       "Name: letter_keys, dtype: float64"
      ]
     },
     "execution_count": 7,
     "metadata": {},
     "output_type": "execute_result"
    }
   ],
   "source": [
    "# change keys/mode to letter/maj/min representations\n",
    "keys = {0:'C', 1:'Db',2:'D',3:'Eb',4:'E',5:'F',6:'F#',7:'G',8:'Ab',9:'A',10:'Bb',11:'B'}\n",
    "modes = {0:'Minor',1:'Major'}\n",
    "\n",
    "# create new column in df\n",
    "playlist_df['letter_keys'] = playlist_df['key'].map(keys)\n",
    "playlist_df['modes'] = playlist_df['mode'].map(modes)\n",
    "\n",
    "round(playlist_df['letter_keys'].value_counts(normalize=True)*100, 2)"
   ]
  },
  {
   "cell_type": "code",
   "execution_count": 8,
   "metadata": {},
   "outputs": [],
   "source": [
    "# create a column that concatonates key with mode\n",
    "playlist_df['key_mode'] = playlist_df['letter_keys'] + \" \" + playlist_df['modes']"
   ]
  },
  {
   "cell_type": "markdown",
   "metadata": {},
   "source": [
    "### Impute Outliers"
   ]
  },
  {
   "cell_type": "code",
   "execution_count": 9,
   "metadata": {},
   "outputs": [],
   "source": [
    "# Bring outliers down/up to 5 standard deviations from the mean\n",
    "for feat in playlist_df.columns:\n",
    "    try:\n",
    "        abv_5_std = playlist_df[feat].mean()+ 5* playlist_df[feat].std()\n",
    "        below_5_std = playlist_df[feat].mean()- 5* playlist_df[feat].std()\n",
    "        conditions = [playlist_df[feat]>abv_5_std, playlist_df[feat]<below_5_std]\n",
    "        choices = [abv_5_std, below_5_std]\n",
    "        df[feat] = np.select(conditions, choices, playlist_df[feat])\n",
    "    except:\n",
    "        pass"
   ]
  },
  {
   "cell_type": "markdown",
   "metadata": {},
   "source": [
    "### Standardize"
   ]
  },
  {
   "cell_type": "code",
   "execution_count": 10,
   "metadata": {},
   "outputs": [],
   "source": [
    "# Scale features down to 0-1\n",
    "playlist_df['scaled_speech'] = (playlist_df['speechiness'] - min(playlist_df['speechiness'])) / (max(playlist_df['speechiness']) - min(playlist_df['speechiness']))\n",
    "playlist_df['scaled_duration'] = (playlist_df['duration_ms'] - min(playlist_df['duration_ms'])) / (max(playlist_df['duration_ms']) - min(playlist_df['duration_ms']))\n",
    "playlist_df['scaled_loudness'] = (playlist_df['loudness'] - min(playlist_df['loudness'])) / (max(playlist_df['loudness']) - min(playlist_df['loudness']))\n",
    "playlist_df['scaled_tempo'] = (playlist_df['tempo'] - min(playlist_df['tempo'])) / (max(playlist_df['tempo']) - min(playlist_df['tempo']))\n",
    "playlist_df['scaled_pop'] = (playlist_df['popularity'] - min(playlist_df['popularity'])) / (max(playlist_df['popularity']) - min(playlist_df['popularity']))\n"
   ]
  },
  {
   "cell_type": "markdown",
   "metadata": {},
   "source": [
    "### Create Dummy Variables"
   ]
  },
  {
   "cell_type": "code",
   "execution_count": 11,
   "metadata": {},
   "outputs": [],
   "source": [
    "# all the dummies from the big dataset\n",
    "all_dummies = ['A Major', 'A Minor',\n",
    "       'Ab Major', 'Ab Minor', 'B Major', 'B Minor', 'Bb Major', 'Bb Minor',\n",
    "       'C Major', 'C Minor', 'D Major', 'D Minor', 'Db Major', 'Db Minor',\n",
    "       'E Major', 'E Minor', 'Eb Major', 'Eb Minor', 'F Major', 'F Minor',\n",
    "       'F# Major', 'F# Minor', 'G Major', 'G Minor', '1920s', '1930s', '1940s',\n",
    "       '1950s', '1960s', '1970s', '1980s', '1990s', '2000s', '2010s', '2020s']\n",
    "\n",
    "# make dummies for key/mode and decades\n",
    "key_dummies = pd.get_dummies(playlist_df['key_mode'])\n",
    "decade_dummies = pd.get_dummies(playlist_df['decade'])\n",
    "dummies = pd.concat([ key_dummies, decade_dummies], axis=1)\n",
    "\n",
    "# check which dummies weren't created - we need to add these in as zeros so the dataframes have the same shape\n",
    "playlist_df = pd.concat([playlist_df, key_dummies, decade_dummies], axis=1)\n",
    "zeroes = list(set(all_dummies) - set(dummies.columns))\n",
    "\n",
    "# add those dummies in as zeroes\n",
    "playlist_df[zeroes] = 0\n",
    "\n",
    "# drop first column for dummies\n",
    "playlist_df.drop(['A Major', '1920s'],axis=1, inplace=True)"
   ]
  },
  {
   "cell_type": "markdown",
   "metadata": {},
   "source": [
    "### Import Record Labels dataset"
   ]
  },
  {
   "cell_type": "code",
   "execution_count": 12,
   "metadata": {},
   "outputs": [],
   "source": [
    "labels_df = pd.read_csv('data/cleaned_data_labels.csv',index_col=[0])\n",
    "\n",
    "# drop unnecesary features\n",
    "labels_df.drop(['key_mode', 'decade', 'modes', 'letter_keys',  'year', \n",
    "         'release_date', 'mode', 'loudness', 'key', 'id', 'explicit', \n",
    "         'tempo', 'duration_ms', 'speechiness', 'popularity' ], axis=1, inplace=True)"
   ]
  },
  {
   "cell_type": "code",
   "execution_count": 13,
   "metadata": {},
   "outputs": [
    {
     "data": {
      "text/html": [
       "<div>\n",
       "<style scoped>\n",
       "    .dataframe tbody tr th:only-of-type {\n",
       "        vertical-align: middle;\n",
       "    }\n",
       "\n",
       "    .dataframe tbody tr th {\n",
       "        vertical-align: top;\n",
       "    }\n",
       "\n",
       "    .dataframe thead th {\n",
       "        text-align: right;\n",
       "    }\n",
       "</style>\n",
       "<table border=\"1\" class=\"dataframe\">\n",
       "  <thead>\n",
       "    <tr style=\"text-align: right;\">\n",
       "      <th></th>\n",
       "      <th>acousticness</th>\n",
       "      <th>danceability</th>\n",
       "      <th>energy</th>\n",
       "      <th>instrumentalness</th>\n",
       "      <th>liveness</th>\n",
       "      <th>name</th>\n",
       "      <th>valence</th>\n",
       "      <th>scaled_speech</th>\n",
       "      <th>scaled_duration</th>\n",
       "      <th>scaled_loudness</th>\n",
       "      <th>scaled_tempo</th>\n",
       "      <th>scaled_pop</th>\n",
       "      <th>A Minor</th>\n",
       "      <th>Ab Major</th>\n",
       "      <th>Ab Minor</th>\n",
       "      <th>B Major</th>\n",
       "      <th>B Minor</th>\n",
       "      <th>Bb Major</th>\n",
       "      <th>Bb Minor</th>\n",
       "      <th>C Major</th>\n",
       "      <th>C Minor</th>\n",
       "      <th>D Major</th>\n",
       "      <th>D Minor</th>\n",
       "      <th>Db Major</th>\n",
       "      <th>Db Minor</th>\n",
       "      <th>E Major</th>\n",
       "      <th>E Minor</th>\n",
       "      <th>Eb Major</th>\n",
       "      <th>Eb Minor</th>\n",
       "      <th>F Major</th>\n",
       "      <th>F Minor</th>\n",
       "      <th>F# Major</th>\n",
       "      <th>F# Minor</th>\n",
       "      <th>G Major</th>\n",
       "      <th>G Minor</th>\n",
       "      <th>1930s</th>\n",
       "      <th>1940s</th>\n",
       "      <th>1950s</th>\n",
       "      <th>1960s</th>\n",
       "      <th>1970s</th>\n",
       "      <th>1980s</th>\n",
       "      <th>1990s</th>\n",
       "      <th>2000s</th>\n",
       "      <th>2010s</th>\n",
       "      <th>2020s</th>\n",
       "      <th>artist</th>\n",
       "      <th>label</th>\n",
       "    </tr>\n",
       "  </thead>\n",
       "  <tbody>\n",
       "    <tr>\n",
       "      <th>3919</th>\n",
       "      <td>0.162000</td>\n",
       "      <td>0.181</td>\n",
       "      <td>0.486</td>\n",
       "      <td>0.2030</td>\n",
       "      <td>0.1110</td>\n",
       "      <td>Machine Gun</td>\n",
       "      <td>0.0545</td>\n",
       "      <td>0.152872</td>\n",
       "      <td>0.048459</td>\n",
       "      <td>0.716686</td>\n",
       "      <td>0.633260</td>\n",
       "      <td>0.40</td>\n",
       "      <td>0</td>\n",
       "      <td>0</td>\n",
       "      <td>0</td>\n",
       "      <td>0</td>\n",
       "      <td>0</td>\n",
       "      <td>0</td>\n",
       "      <td>0</td>\n",
       "      <td>0</td>\n",
       "      <td>0</td>\n",
       "      <td>0</td>\n",
       "      <td>0</td>\n",
       "      <td>0</td>\n",
       "      <td>0</td>\n",
       "      <td>0</td>\n",
       "      <td>0</td>\n",
       "      <td>0</td>\n",
       "      <td>0</td>\n",
       "      <td>0</td>\n",
       "      <td>0</td>\n",
       "      <td>0</td>\n",
       "      <td>1</td>\n",
       "      <td>0</td>\n",
       "      <td>0</td>\n",
       "      <td>0</td>\n",
       "      <td>0</td>\n",
       "      <td>0</td>\n",
       "      <td>0</td>\n",
       "      <td>0</td>\n",
       "      <td>0</td>\n",
       "      <td>1</td>\n",
       "      <td>0</td>\n",
       "      <td>0</td>\n",
       "      <td>0</td>\n",
       "      <td>Slowdive</td>\n",
       "      <td>Dead Oceans</td>\n",
       "    </tr>\n",
       "    <tr>\n",
       "      <th>3920</th>\n",
       "      <td>0.098700</td>\n",
       "      <td>0.172</td>\n",
       "      <td>0.745</td>\n",
       "      <td>0.0073</td>\n",
       "      <td>0.2350</td>\n",
       "      <td>40 Days</td>\n",
       "      <td>0.4910</td>\n",
       "      <td>0.153282</td>\n",
       "      <td>0.035013</td>\n",
       "      <td>0.774223</td>\n",
       "      <td>0.757644</td>\n",
       "      <td>0.37</td>\n",
       "      <td>0</td>\n",
       "      <td>0</td>\n",
       "      <td>0</td>\n",
       "      <td>0</td>\n",
       "      <td>0</td>\n",
       "      <td>0</td>\n",
       "      <td>0</td>\n",
       "      <td>0</td>\n",
       "      <td>0</td>\n",
       "      <td>0</td>\n",
       "      <td>0</td>\n",
       "      <td>0</td>\n",
       "      <td>0</td>\n",
       "      <td>0</td>\n",
       "      <td>1</td>\n",
       "      <td>0</td>\n",
       "      <td>0</td>\n",
       "      <td>0</td>\n",
       "      <td>0</td>\n",
       "      <td>0</td>\n",
       "      <td>0</td>\n",
       "      <td>0</td>\n",
       "      <td>0</td>\n",
       "      <td>0</td>\n",
       "      <td>0</td>\n",
       "      <td>0</td>\n",
       "      <td>0</td>\n",
       "      <td>0</td>\n",
       "      <td>0</td>\n",
       "      <td>1</td>\n",
       "      <td>0</td>\n",
       "      <td>0</td>\n",
       "      <td>0</td>\n",
       "      <td>Slowdive</td>\n",
       "      <td>Dead Oceans</td>\n",
       "    </tr>\n",
       "    <tr>\n",
       "      <th>3921</th>\n",
       "      <td>0.195000</td>\n",
       "      <td>0.129</td>\n",
       "      <td>0.647</td>\n",
       "      <td>0.2920</td>\n",
       "      <td>0.1040</td>\n",
       "      <td>Machine Gun</td>\n",
       "      <td>0.0393</td>\n",
       "      <td>0.156970</td>\n",
       "      <td>0.048824</td>\n",
       "      <td>0.792687</td>\n",
       "      <td>0.633165</td>\n",
       "      <td>0.41</td>\n",
       "      <td>0</td>\n",
       "      <td>0</td>\n",
       "      <td>0</td>\n",
       "      <td>0</td>\n",
       "      <td>0</td>\n",
       "      <td>0</td>\n",
       "      <td>0</td>\n",
       "      <td>0</td>\n",
       "      <td>0</td>\n",
       "      <td>0</td>\n",
       "      <td>0</td>\n",
       "      <td>0</td>\n",
       "      <td>0</td>\n",
       "      <td>0</td>\n",
       "      <td>0</td>\n",
       "      <td>0</td>\n",
       "      <td>0</td>\n",
       "      <td>0</td>\n",
       "      <td>0</td>\n",
       "      <td>0</td>\n",
       "      <td>0</td>\n",
       "      <td>0</td>\n",
       "      <td>0</td>\n",
       "      <td>0</td>\n",
       "      <td>0</td>\n",
       "      <td>0</td>\n",
       "      <td>0</td>\n",
       "      <td>0</td>\n",
       "      <td>0</td>\n",
       "      <td>1</td>\n",
       "      <td>0</td>\n",
       "      <td>0</td>\n",
       "      <td>0</td>\n",
       "      <td>Slowdive</td>\n",
       "      <td>Dead Oceans</td>\n",
       "    </tr>\n",
       "    <tr>\n",
       "      <th>3922</th>\n",
       "      <td>0.001370</td>\n",
       "      <td>0.431</td>\n",
       "      <td>0.482</td>\n",
       "      <td>0.4410</td>\n",
       "      <td>0.2380</td>\n",
       "      <td>Ballad Of Sister Sue</td>\n",
       "      <td>0.1230</td>\n",
       "      <td>0.126232</td>\n",
       "      <td>0.049432</td>\n",
       "      <td>0.816804</td>\n",
       "      <td>0.524579</td>\n",
       "      <td>0.38</td>\n",
       "      <td>0</td>\n",
       "      <td>0</td>\n",
       "      <td>0</td>\n",
       "      <td>0</td>\n",
       "      <td>0</td>\n",
       "      <td>0</td>\n",
       "      <td>0</td>\n",
       "      <td>0</td>\n",
       "      <td>0</td>\n",
       "      <td>0</td>\n",
       "      <td>0</td>\n",
       "      <td>0</td>\n",
       "      <td>0</td>\n",
       "      <td>0</td>\n",
       "      <td>0</td>\n",
       "      <td>0</td>\n",
       "      <td>0</td>\n",
       "      <td>0</td>\n",
       "      <td>0</td>\n",
       "      <td>0</td>\n",
       "      <td>1</td>\n",
       "      <td>0</td>\n",
       "      <td>0</td>\n",
       "      <td>0</td>\n",
       "      <td>0</td>\n",
       "      <td>0</td>\n",
       "      <td>0</td>\n",
       "      <td>0</td>\n",
       "      <td>0</td>\n",
       "      <td>1</td>\n",
       "      <td>0</td>\n",
       "      <td>0</td>\n",
       "      <td>0</td>\n",
       "      <td>Slowdive</td>\n",
       "      <td>Dead Oceans</td>\n",
       "    </tr>\n",
       "    <tr>\n",
       "      <th>3923</th>\n",
       "      <td>0.000057</td>\n",
       "      <td>0.227</td>\n",
       "      <td>0.480</td>\n",
       "      <td>0.8350</td>\n",
       "      <td>0.0477</td>\n",
       "      <td>Catch The Breeze</td>\n",
       "      <td>0.1880</td>\n",
       "      <td>0.159020</td>\n",
       "      <td>0.047115</td>\n",
       "      <td>0.841203</td>\n",
       "      <td>0.379780</td>\n",
       "      <td>0.37</td>\n",
       "      <td>0</td>\n",
       "      <td>0</td>\n",
       "      <td>0</td>\n",
       "      <td>0</td>\n",
       "      <td>0</td>\n",
       "      <td>0</td>\n",
       "      <td>0</td>\n",
       "      <td>0</td>\n",
       "      <td>0</td>\n",
       "      <td>0</td>\n",
       "      <td>0</td>\n",
       "      <td>0</td>\n",
       "      <td>0</td>\n",
       "      <td>0</td>\n",
       "      <td>0</td>\n",
       "      <td>0</td>\n",
       "      <td>0</td>\n",
       "      <td>0</td>\n",
       "      <td>0</td>\n",
       "      <td>0</td>\n",
       "      <td>0</td>\n",
       "      <td>0</td>\n",
       "      <td>0</td>\n",
       "      <td>0</td>\n",
       "      <td>0</td>\n",
       "      <td>0</td>\n",
       "      <td>0</td>\n",
       "      <td>0</td>\n",
       "      <td>0</td>\n",
       "      <td>1</td>\n",
       "      <td>0</td>\n",
       "      <td>0</td>\n",
       "      <td>0</td>\n",
       "      <td>Slowdive</td>\n",
       "      <td>Dead Oceans</td>\n",
       "    </tr>\n",
       "  </tbody>\n",
       "</table>\n",
       "</div>"
      ],
      "text/plain": [
       "      acousticness  danceability  energy  instrumentalness  liveness  \\\n",
       "3919      0.162000         0.181   0.486            0.2030    0.1110   \n",
       "3920      0.098700         0.172   0.745            0.0073    0.2350   \n",
       "3921      0.195000         0.129   0.647            0.2920    0.1040   \n",
       "3922      0.001370         0.431   0.482            0.4410    0.2380   \n",
       "3923      0.000057         0.227   0.480            0.8350    0.0477   \n",
       "\n",
       "                      name  valence  scaled_speech  scaled_duration  \\\n",
       "3919           Machine Gun   0.0545       0.152872         0.048459   \n",
       "3920               40 Days   0.4910       0.153282         0.035013   \n",
       "3921           Machine Gun   0.0393       0.156970         0.048824   \n",
       "3922  Ballad Of Sister Sue   0.1230       0.126232         0.049432   \n",
       "3923      Catch The Breeze   0.1880       0.159020         0.047115   \n",
       "\n",
       "      scaled_loudness  scaled_tempo  scaled_pop  A Minor  Ab Major  Ab Minor  \\\n",
       "3919         0.716686      0.633260        0.40        0         0         0   \n",
       "3920         0.774223      0.757644        0.37        0         0         0   \n",
       "3921         0.792687      0.633165        0.41        0         0         0   \n",
       "3922         0.816804      0.524579        0.38        0         0         0   \n",
       "3923         0.841203      0.379780        0.37        0         0         0   \n",
       "\n",
       "      B Major  B Minor  Bb Major  Bb Minor  C Major  C Minor  D Major  \\\n",
       "3919        0        0         0         0        0        0        0   \n",
       "3920        0        0         0         0        0        0        0   \n",
       "3921        0        0         0         0        0        0        0   \n",
       "3922        0        0         0         0        0        0        0   \n",
       "3923        0        0         0         0        0        0        0   \n",
       "\n",
       "      D Minor  Db Major  Db Minor  E Major  E Minor  Eb Major  Eb Minor  \\\n",
       "3919        0         0         0        0        0         0         0   \n",
       "3920        0         0         0        0        1         0         0   \n",
       "3921        0         0         0        0        0         0         0   \n",
       "3922        0         0         0        0        0         0         0   \n",
       "3923        0         0         0        0        0         0         0   \n",
       "\n",
       "      F Major  F Minor  F# Major  F# Minor  G Major  G Minor  1930s  1940s  \\\n",
       "3919        0        0         0         1        0        0      0      0   \n",
       "3920        0        0         0         0        0        0      0      0   \n",
       "3921        0        0         0         0        0        0      0      0   \n",
       "3922        0        0         0         1        0        0      0      0   \n",
       "3923        0        0         0         0        0        0      0      0   \n",
       "\n",
       "      1950s  1960s  1970s  1980s  1990s  2000s  2010s  2020s    artist  \\\n",
       "3919      0      0      0      0      1      0      0      0  Slowdive   \n",
       "3920      0      0      0      0      1      0      0      0  Slowdive   \n",
       "3921      0      0      0      0      1      0      0      0  Slowdive   \n",
       "3922      0      0      0      0      1      0      0      0  Slowdive   \n",
       "3923      0      0      0      0      1      0      0      0  Slowdive   \n",
       "\n",
       "            label  \n",
       "3919  Dead Oceans  \n",
       "3920  Dead Oceans  \n",
       "3921  Dead Oceans  \n",
       "3922  Dead Oceans  \n",
       "3923  Dead Oceans  "
      ]
     },
     "execution_count": 13,
     "metadata": {},
     "output_type": "execute_result"
    }
   ],
   "source": [
    "# dataframe of all Dead Oceans songs\n",
    "ocean_df = labels_df[labels_df.label == 'Dead Oceans']\n",
    "ocean_df.head()"
   ]
  },
  {
   "cell_type": "markdown",
   "metadata": {},
   "source": [
    "### Calculate cosine similarities between playlist and all Dead Oceans songs"
   ]
  },
  {
   "cell_type": "code",
   "execution_count": 14,
   "metadata": {},
   "outputs": [],
   "source": [
    "# turn both dataframes into numpy arrays\n",
    "playlist_array = np.array(playlist_df.drop(['decade','duration_ms','key','key_mode','letter_keys',\n",
    "                     'loudness','mode','modes','popularity','release_date','speechiness',\n",
    "                         'tempo','track/artist','year'], axis=1))\n",
    "\n",
    "label_array = np.array(ocean_df.drop(['artist','name','label'], axis=1))"
   ]
  },
  {
   "cell_type": "code",
   "execution_count": 15,
   "metadata": {
    "scrolled": false
   },
   "outputs": [
    {
     "name": "stdout",
     "output_type": "stream",
     "text": [
      "[0.41048198 0.46508308 0.50690708 0.38347746 0.38167026 0.47863051\n",
      " 0.389911   0.39059759 0.35573562 0.36883794 0.27732504 0.39653992\n",
      " 0.40443136 0.37710166 0.40054964 0.30535826 0.43224922 0.35005341\n",
      " 0.3650677  0.39990222 0.35987119 0.35287898 0.4347205  0.40957185\n",
      " 0.4273254  0.6799827  0.39989644 0.38722497 0.46576319 0.66389508\n",
      " 0.44183993 0.64154536 0.43386476 0.62117831 0.4472665  0.38027091\n",
      " 0.36413054 0.42236729 0.62774839 0.42997248 0.43353232 0.43207587\n",
      " 0.47329969 0.40911743 0.39949446 0.38289718 0.3508459  0.35654525\n",
      " 0.36190396 0.33774586 0.36539917 0.40163796 0.43061679 0.3559152\n",
      " 0.35101306 0.44434106 0.39586729 0.46860207 0.45046191 0.60696489\n",
      " 0.44746828 0.39339233 0.43816977 0.64842426 0.4429689  0.4227782\n",
      " 0.41794975 0.38316499 0.3656166  0.46221482 0.6138289  0.38686906\n",
      " 0.64005204 0.32723175 0.6693392  0.42299694 0.6051339  0.40815275\n",
      " 0.41238729 0.61936899 0.41138316]\n"
     ]
    }
   ],
   "source": [
    "# turn both arrays into sparse matrices\n",
    "playlist_sparse = sparse.csr_matrix(playlist_array)\n",
    "label_sparse = sparse.csr_matrix(label_array)\n",
    "\n",
    "# get cosine similarities between user playlist and record label\n",
    "cosim = cosine_similarity(playlist_sparse, label_sparse,dense_output=True)\n",
    "print(cosim[0])\n"
   ]
  },
  {
   "cell_type": "markdown",
   "metadata": {},
   "source": [
    "### Sort by highest similarities and map output to song names/artists"
   ]
  },
  {
   "cell_type": "code",
   "execution_count": 16,
   "metadata": {},
   "outputs": [
    {
     "name": "stdout",
     "output_type": "stream",
     "text": [
      "Dead Oceans songs similar to Polly - Moses Sumney :\n",
      "\n",
      "[(0.6799826957661531, 'A Perfect Sonnet', 'Bright Eyes'), (0.6693392046451008, 'Nobody', 'Mitski')]\n",
      "================================================================================================================\n",
      "Dead Oceans songs similar to Goodbye - Porches :\n",
      "\n",
      "[(0.7235321945507469, 'Day Glo', 'Brazos'), (0.6911031673391842, 'Kyoto', 'Phoebe Bridgers')]\n",
      "================================================================================================================\n",
      "Dead Oceans songs similar to rangerover - Porches :\n",
      "\n",
      "[(0.7543136314811328, 'At The Bottom Of Everything', 'Bright Eyes'), (0.748801127319026, 'June On The West Coast', 'Bright Eyes')]\n",
      "================================================================================================================\n",
      "Dead Oceans songs similar to Tal Uno - Barrie :\n",
      "\n",
      "[(0.6550584864922804, 'Evan Finds the Third Room', 'Khruangbin'), (0.6489500292716106, 'Sing', 'Slowdive')]\n",
      "================================================================================================================\n",
      "Dead Oceans songs similar to Angel's Song - Arlo Parks :\n",
      "\n",
      "[(0.6296033724409232, 'Sing', 'Slowdive'), (0.6176369014227862, 'Sing', 'Slowdive')]\n",
      "================================================================================================================\n",
      "Dead Oceans songs similar to Randy - Big Thief :\n",
      "\n",
      "[(0.5105669076285985, 'Evan Finds the Third Room', 'Khruangbin'), (0.5105604536560789, 'Dagger', 'Slowdive')]\n",
      "================================================================================================================\n",
      "Dead Oceans songs similar to Butterfly - Adrianne Lenker :\n",
      "\n",
      "[(0.6044762782627116, 'Four Winds', 'Bright Eyes'), (0.6036611249750693, 'Scott Street', 'Phoebe Bridgers')]\n",
      "================================================================================================================\n",
      "Dead Oceans songs similar to All of Me Wants All of You - Sufjan Stevens :\n",
      "\n",
      "[(0.6849153097599712, 'Sing', 'Slowdive'), (0.6628457323917466, 'Lower the Heavens', 'The Donkeys')]\n",
      "================================================================================================================\n",
      "Dead Oceans songs similar to Cola - Arlo Parks :\n",
      "\n",
      "[(0.6249944272182839, \"It's Gonna Take an Airplane\", 'Destroyer'), (0.6215120152405216, 'Evan Finds the Third Room', 'Khruangbin')]\n",
      "================================================================================================================\n"
     ]
    }
   ],
   "source": [
    "for i in range(len(cosim)):\n",
    "    print('Dead Oceans songs similar to', playlist_df.iloc[i]['track/artist'],':\\n' )\n",
    "    print(sorted(list(zip(cosim[i],ocean_df['name'], ocean_df['artist'])), reverse=True)[:2])\n",
    "    print('================================================================================================================')"
   ]
  },
  {
   "cell_type": "markdown",
   "metadata": {},
   "source": [
    "### Put it all in a function"
   ]
  },
  {
   "cell_type": "code",
   "execution_count": 17,
   "metadata": {},
   "outputs": [],
   "source": [
    "def recommend(playlist, record_label):\n",
    "    '''input 1: playlist formatted as a list of tuples [(track_name, artist), (track_name, artist),etc]\n",
    "        input 2: record label name (string)'''\n",
    "    \n",
    "  # in the works"
   ]
  },
  {
   "cell_type": "markdown",
   "metadata": {},
   "source": [
    "### Test on Justin's Playlist"
   ]
  },
  {
   "cell_type": "code",
   "execution_count": null,
   "metadata": {},
   "outputs": [],
   "source": []
  },
  {
   "cell_type": "markdown",
   "metadata": {},
   "source": [
    "### Test on DJ's Playlist"
   ]
  },
  {
   "cell_type": "code",
   "execution_count": null,
   "metadata": {},
   "outputs": [],
   "source": []
  },
  {
   "cell_type": "markdown",
   "metadata": {},
   "source": [
    "### Test on Nick's Playlist"
   ]
  },
  {
   "cell_type": "code",
   "execution_count": null,
   "metadata": {},
   "outputs": [],
   "source": []
  },
  {
   "cell_type": "markdown",
   "metadata": {},
   "source": [
    "# Clustering"
   ]
  },
  {
   "cell_type": "code",
   "execution_count": null,
   "metadata": {},
   "outputs": [],
   "source": []
  }
 ],
 "metadata": {
  "kernelspec": {
   "display_name": "Python 3",
   "language": "python",
   "name": "python3"
  },
  "language_info": {
   "codemirror_mode": {
    "name": "ipython",
    "version": 3
   },
   "file_extension": ".py",
   "mimetype": "text/x-python",
   "name": "python",
   "nbconvert_exporter": "python",
   "pygments_lexer": "ipython3",
   "version": "3.6.9"
  }
 },
 "nbformat": 4,
 "nbformat_minor": 4
}
