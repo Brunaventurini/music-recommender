{
 "cells": [
  {
   "cell_type": "markdown",
   "metadata": {},
   "source": [
    "# Building a Spotify Recommendation Engine for Music Labels\n",
    "## Cosine Similarity vs Clustering-Based Recommendation\n",
    "### Flatiron School Data Science Program Phase 4 Project<br>Justin Williams & Khyatee Desai"
   ]
  },
  {
   "cell_type": "code",
   "execution_count": 1,
   "metadata": {},
   "outputs": [],
   "source": [
    "import pandas as pd\n",
    "import numpy as np\n",
    "import requests\n",
    "from bs4 import BeautifulSoup\n",
    "from zipfile import ZipFile \n",
    "from sklearn import set_config\n",
    "from sklearn.cluster import KMeans\n",
    "set_config(print_changed_only=False, display=None)\n",
    "pd.set_option('display.max_columns', None)\n",
    "pd.set_option('display.max_rows', None)\n",
    "import matplotlib.pyplot as plt\n",
    "% matplotlib inline\n",
    "import seaborn as sns\n",
    "sns.set_style('darkgrid')\n",
    "import warnings\n",
    "warnings.filterwarnings('ignore')\n",
    "from sklearn.metrics.pairwise import cosine_similarity\n",
    "from scipy import sparse\n",
    "import spotipy\n",
    "from spotipy.oauth2 import SpotifyClientCredentials\n",
    "import os\n",
    "import sys\n",
    "import statistics"
   ]
  },
  {
   "cell_type": "markdown",
   "metadata": {},
   "source": [
    "# Spotify API Data Collection\n",
    "The following process is used to collect song attributes for a user's given playlist from the Spotify API"
   ]
  },
  {
   "cell_type": "code",
   "execution_count": 2,
   "metadata": {},
   "outputs": [],
   "source": [
    "# create a sample playlist\n",
    "playlist = ['Only Child - Tierra Whack','Biscuit Town - King Krule', \n",
    "            'Bags - Clairo', 'Eventually - Tame Impala',\n",
    "               'White Ferrari - Frank Ocean', 'Charcoal Baby - Blood Orange']"
   ]
  },
  {
   "cell_type": "markdown",
   "metadata": {},
   "source": [
    "### Get spotify id's for each song"
   ]
  },
  {
   "cell_type": "code",
   "execution_count": 3,
   "metadata": {
    "scrolled": false
   },
   "outputs": [],
   "source": [
    "# save my credentials\n",
    "os.environ[\"SPOTIPY_CLIENT_ID\"] = \"a8561b2ef375442f8f89527b255f4c78\"\n",
    "os.environ[\"SPOTIPY_CLIENT_SECRET\"] = \"566a59fd72764b9580f8767c5bc0ca7f\"\n",
    "\n",
    "spotify = spotipy.Spotify(auth_manager=SpotifyClientCredentials())\n",
    "\n",
    "# save song id's, release dates, and song popularity in lists\n",
    "song_ids = []\n",
    "release_dates = []\n",
    "popularities = []\n",
    "for song in playlist:\n",
    "    try:\n",
    "        results = spotify.search(q=song, type='track')\n",
    "        song_ids.append(results['tracks']['items'][0]['id'])\n",
    "        release_dates.append(results['tracks']['items'][0]['album']['release_date'])\n",
    "        popularities.append(results['tracks']['items'][0]['popularity'])\n",
    "    except:\n",
    "        print(\"Couldn't find:\", song,'\\n')"
   ]
  },
  {
   "cell_type": "markdown",
   "metadata": {},
   "source": [
    "### Retrieve Song attributes for each song"
   ]
  },
  {
   "cell_type": "code",
   "execution_count": 4,
   "metadata": {},
   "outputs": [
    {
     "data": {
      "text/plain": [
       "{'danceability': 0.826,\n",
       " 'energy': 0.365,\n",
       " 'key': 1,\n",
       " 'loudness': -7.024,\n",
       " 'mode': 1,\n",
       " 'speechiness': 0.0412,\n",
       " 'acousticness': 0.849,\n",
       " 'instrumentalness': 3.8e-06,\n",
       " 'liveness': 0.186,\n",
       " 'valence': 0.802,\n",
       " 'tempo': 85.244,\n",
       " 'type': 'audio_features',\n",
       " 'id': '4zMmqb0pYwX6b0qc0slCoT',\n",
       " 'uri': 'spotify:track:4zMmqb0pYwX6b0qc0slCoT',\n",
       " 'track_href': 'https://api.spotify.com/v1/tracks/4zMmqb0pYwX6b0qc0slCoT',\n",
       " 'analysis_url': 'https://api.spotify.com/v1/audio-analysis/4zMmqb0pYwX6b0qc0slCoT',\n",
       " 'duration_ms': 239324,\n",
       " 'time_signature': 4}"
      ]
     },
     "execution_count": 4,
     "metadata": {},
     "output_type": "execute_result"
    }
   ],
   "source": [
    "# use the song id's gathered above to get audio attributes for each song\n",
    "attributes = spotify.audio_features(tracks=song_ids)\n",
    "attributes[0]"
   ]
  },
  {
   "cell_type": "code",
   "execution_count": 5,
   "metadata": {},
   "outputs": [],
   "source": [
    "# combine the song popularity and release dates with the rest of the attributes\n",
    "for i in range(len(attributes)):\n",
    "    attributes[i]['track/artist'] = playlist[i]\n",
    "    attributes[i]['popularity'] = popularities[i]\n",
    "    attributes[i]['release_date'] = release_dates[i]\n",
    "    \n",
    "# create a dataframe from all the attributes\n",
    "playlist_df = pd.DataFrame(attributes)"
   ]
  },
  {
   "cell_type": "markdown",
   "metadata": {},
   "source": [
    "# Spotify Data Cleaning"
   ]
  },
  {
   "cell_type": "markdown",
   "metadata": {},
   "source": [
    "### Create Decade Column"
   ]
  },
  {
   "cell_type": "code",
   "execution_count": 6,
   "metadata": {},
   "outputs": [],
   "source": [
    "# drop unecessary features \n",
    "playlist_df.drop(['type', 'id', 'uri', 'track_href', 'analysis_url', 'time_signature'], axis=1, inplace=True)\n",
    "\n",
    "# set release date as datetime\n",
    "playlist_df['release_date'] = pd.to_datetime(playlist_df['release_date'])\n",
    "\n",
    "# make year column datetime\n",
    "playlist_df['year'] = playlist_df['release_date'].dt.year\n",
    "\n",
    "# create decade column\n",
    "playlist_df['decade'] = playlist_df['year'].apply(lambda x: str(x)[:3]+'0s')"
   ]
  },
  {
   "cell_type": "markdown",
   "metadata": {},
   "source": [
    "### Map Keys/Modes to make more interpretable"
   ]
  },
  {
   "cell_type": "code",
   "execution_count": 7,
   "metadata": {},
   "outputs": [
    {
     "data": {
      "text/plain": [
       "G     33.33\n",
       "Db    33.33\n",
       "A     16.67\n",
       "C     16.67\n",
       "Name: letter_keys, dtype: float64"
      ]
     },
     "execution_count": 7,
     "metadata": {},
     "output_type": "execute_result"
    }
   ],
   "source": [
    "# change keys/mode to letter/maj/min representations\n",
    "keys = {0:'C', 1:'Db',2:'D',3:'Eb',4:'E',5:'F',6:'F#',7:'G',8:'Ab',9:'A',10:'Bb',11:'B'}\n",
    "modes = {0:'Minor',1:'Major'}\n",
    "\n",
    "# create new column in df\n",
    "playlist_df['letter_keys'] = playlist_df['key'].map(keys)\n",
    "playlist_df['modes'] = playlist_df['mode'].map(modes)\n",
    "\n",
    "round(playlist_df['letter_keys'].value_counts(normalize=True)*100, 2)"
   ]
  },
  {
   "cell_type": "code",
   "execution_count": 8,
   "metadata": {},
   "outputs": [],
   "source": [
    "# create a column that concatonates key with mode\n",
    "playlist_df['key_mode'] = playlist_df['letter_keys'] + \" \" + playlist_df['modes']"
   ]
  },
  {
   "cell_type": "markdown",
   "metadata": {},
   "source": [
    "### Impute Outliers"
   ]
  },
  {
   "cell_type": "code",
   "execution_count": 9,
   "metadata": {},
   "outputs": [],
   "source": [
    "# Bring outliers down/up to 5 standard deviations from the mean\n",
    "for feat in playlist_df.columns:\n",
    "    try:\n",
    "        abv_5_std = playlist_df[feat].mean()+ 5* playlist_df[feat].std()\n",
    "        below_5_std = playlist_df[feat].mean()- 5* playlist_df[feat].std()\n",
    "        conditions = [playlist_df[feat]>abv_5_std, playlist_df[feat]<below_5_std]\n",
    "        choices = [abv_5_std, below_5_std]\n",
    "        df[feat] = np.select(conditions, choices, playlist_df[feat])\n",
    "    except:\n",
    "        pass"
   ]
  },
  {
   "cell_type": "markdown",
   "metadata": {},
   "source": [
    "### Standardize"
   ]
  },
  {
   "cell_type": "code",
   "execution_count": 10,
   "metadata": {},
   "outputs": [],
   "source": [
    "# Scale features down to 0-1\n",
    "playlist_df['scaled_speech'] = (playlist_df['speechiness'] - min(playlist_df['speechiness'])) / (max(playlist_df['speechiness']) - min(playlist_df['speechiness']))\n",
    "playlist_df['scaled_duration'] = (playlist_df['duration_ms'] - min(playlist_df['duration_ms'])) / (max(playlist_df['duration_ms']) - min(playlist_df['duration_ms']))\n",
    "playlist_df['scaled_loudness'] = (playlist_df['loudness'] - min(playlist_df['loudness'])) / (max(playlist_df['loudness']) - min(playlist_df['loudness']))\n",
    "playlist_df['scaled_tempo'] = (playlist_df['tempo'] - min(playlist_df['tempo'])) / (max(playlist_df['tempo']) - min(playlist_df['tempo']))\n",
    "playlist_df['scaled_pop'] = (playlist_df['popularity'] - min(playlist_df['popularity'])) / (max(playlist_df['popularity']) - min(playlist_df['popularity']))\n"
   ]
  },
  {
   "cell_type": "markdown",
   "metadata": {},
   "source": [
    "### Create Dummy Variables"
   ]
  },
  {
   "cell_type": "code",
   "execution_count": 11,
   "metadata": {},
   "outputs": [],
   "source": [
    "# all the dummies from the big dataset\n",
    "all_dummies = ['A Major', 'A Minor',\n",
    "       'Ab Major', 'Ab Minor', 'B Major', 'B Minor', 'Bb Major', 'Bb Minor',\n",
    "       'C Major', 'C Minor', 'D Major', 'D Minor', 'Db Major', 'Db Minor',\n",
    "       'E Major', 'E Minor', 'Eb Major', 'Eb Minor', 'F Major', 'F Minor',\n",
    "       'F# Major', 'F# Minor', 'G Major', 'G Minor', '1920s', '1930s', '1940s',\n",
    "       '1950s', '1960s', '1970s', '1980s', '1990s', '2000s', '2010s', '2020s']\n",
    "\n",
    "# make dummies for key/mode and decades\n",
    "key_dummies = pd.get_dummies(playlist_df['key_mode'])\n",
    "decade_dummies = pd.get_dummies(playlist_df['decade'])\n",
    "dummies = pd.concat([ key_dummies, decade_dummies], axis=1)\n",
    "\n",
    "# check which dummies weren't created - we need to add these in as zeros so the dataframes have the same shape\n",
    "playlist_df = pd.concat([playlist_df, key_dummies, decade_dummies], axis=1)\n",
    "zeroes = list(set(all_dummies) - set(dummies.columns))\n",
    "\n",
    "# add those dummies in as zeroes\n",
    "for col in zeroes:\n",
    "    playlist_df[col] = 0\n",
    "\n",
    "# drop first column for dummies\n",
    "playlist_df.drop(['A Major', '1920s'],axis=1, inplace=True)"
   ]
  },
  {
   "cell_type": "markdown",
   "metadata": {},
   "source": [
    "# Similarity-Based Recommendation\n",
    "### Import Record Labels dataset"
   ]
  },
  {
   "cell_type": "code",
   "execution_count": 12,
   "metadata": {},
   "outputs": [],
   "source": [
    "labels_df = pd.read_csv('data/cleaned_data_labels.csv',index_col=[0])\n",
    "\n",
    "# drop unnecesary features\n",
    "labels_df.drop(['key_mode', 'decade', 'modes', 'letter_keys',  'year', \n",
    "         'release_date', 'mode', 'loudness', 'key', 'id', 'explicit', \n",
    "         'tempo', 'duration_ms', 'speechiness', 'popularity' ], axis=1, inplace=True)"
   ]
  },
  {
   "cell_type": "code",
   "execution_count": 13,
   "metadata": {},
   "outputs": [
    {
     "data": {
      "text/html": [
       "<div>\n",
       "<style scoped>\n",
       "    .dataframe tbody tr th:only-of-type {\n",
       "        vertical-align: middle;\n",
       "    }\n",
       "\n",
       "    .dataframe tbody tr th {\n",
       "        vertical-align: top;\n",
       "    }\n",
       "\n",
       "    .dataframe thead th {\n",
       "        text-align: right;\n",
       "    }\n",
       "</style>\n",
       "<table border=\"1\" class=\"dataframe\">\n",
       "  <thead>\n",
       "    <tr style=\"text-align: right;\">\n",
       "      <th></th>\n",
       "      <th>acousticness</th>\n",
       "      <th>danceability</th>\n",
       "      <th>energy</th>\n",
       "      <th>instrumentalness</th>\n",
       "      <th>liveness</th>\n",
       "      <th>name</th>\n",
       "      <th>valence</th>\n",
       "      <th>scaled_speech</th>\n",
       "      <th>scaled_duration</th>\n",
       "      <th>scaled_loudness</th>\n",
       "      <th>scaled_tempo</th>\n",
       "      <th>scaled_pop</th>\n",
       "      <th>A Minor</th>\n",
       "      <th>Ab Major</th>\n",
       "      <th>Ab Minor</th>\n",
       "      <th>B Major</th>\n",
       "      <th>B Minor</th>\n",
       "      <th>Bb Major</th>\n",
       "      <th>Bb Minor</th>\n",
       "      <th>C Major</th>\n",
       "      <th>C Minor</th>\n",
       "      <th>D Major</th>\n",
       "      <th>D Minor</th>\n",
       "      <th>Db Major</th>\n",
       "      <th>Db Minor</th>\n",
       "      <th>E Major</th>\n",
       "      <th>E Minor</th>\n",
       "      <th>Eb Major</th>\n",
       "      <th>Eb Minor</th>\n",
       "      <th>F Major</th>\n",
       "      <th>F Minor</th>\n",
       "      <th>F# Major</th>\n",
       "      <th>F# Minor</th>\n",
       "      <th>G Major</th>\n",
       "      <th>G Minor</th>\n",
       "      <th>1930s</th>\n",
       "      <th>1940s</th>\n",
       "      <th>1950s</th>\n",
       "      <th>1960s</th>\n",
       "      <th>1970s</th>\n",
       "      <th>1980s</th>\n",
       "      <th>1990s</th>\n",
       "      <th>2000s</th>\n",
       "      <th>2010s</th>\n",
       "      <th>2020s</th>\n",
       "      <th>artist</th>\n",
       "      <th>label</th>\n",
       "    </tr>\n",
       "  </thead>\n",
       "  <tbody>\n",
       "    <tr>\n",
       "      <th>2361</th>\n",
       "      <td>0.162000</td>\n",
       "      <td>0.181</td>\n",
       "      <td>0.486</td>\n",
       "      <td>0.2030</td>\n",
       "      <td>0.1110</td>\n",
       "      <td>Machine Gun</td>\n",
       "      <td>0.0545</td>\n",
       "      <td>0.152872</td>\n",
       "      <td>0.048459</td>\n",
       "      <td>0.716686</td>\n",
       "      <td>0.633260</td>\n",
       "      <td>0.40</td>\n",
       "      <td>0</td>\n",
       "      <td>0</td>\n",
       "      <td>0</td>\n",
       "      <td>0</td>\n",
       "      <td>0</td>\n",
       "      <td>0</td>\n",
       "      <td>0</td>\n",
       "      <td>0</td>\n",
       "      <td>0</td>\n",
       "      <td>0</td>\n",
       "      <td>0</td>\n",
       "      <td>0</td>\n",
       "      <td>0</td>\n",
       "      <td>0</td>\n",
       "      <td>0</td>\n",
       "      <td>0</td>\n",
       "      <td>0</td>\n",
       "      <td>0</td>\n",
       "      <td>0</td>\n",
       "      <td>0</td>\n",
       "      <td>1</td>\n",
       "      <td>0</td>\n",
       "      <td>0</td>\n",
       "      <td>0</td>\n",
       "      <td>0</td>\n",
       "      <td>0</td>\n",
       "      <td>0</td>\n",
       "      <td>0</td>\n",
       "      <td>0</td>\n",
       "      <td>1</td>\n",
       "      <td>0</td>\n",
       "      <td>0</td>\n",
       "      <td>0</td>\n",
       "      <td>Slowdive</td>\n",
       "      <td>Dead Oceans</td>\n",
       "    </tr>\n",
       "    <tr>\n",
       "      <th>2362</th>\n",
       "      <td>0.098700</td>\n",
       "      <td>0.172</td>\n",
       "      <td>0.745</td>\n",
       "      <td>0.0073</td>\n",
       "      <td>0.2350</td>\n",
       "      <td>40 Days</td>\n",
       "      <td>0.4910</td>\n",
       "      <td>0.153282</td>\n",
       "      <td>0.035013</td>\n",
       "      <td>0.774223</td>\n",
       "      <td>0.757644</td>\n",
       "      <td>0.37</td>\n",
       "      <td>0</td>\n",
       "      <td>0</td>\n",
       "      <td>0</td>\n",
       "      <td>0</td>\n",
       "      <td>0</td>\n",
       "      <td>0</td>\n",
       "      <td>0</td>\n",
       "      <td>0</td>\n",
       "      <td>0</td>\n",
       "      <td>0</td>\n",
       "      <td>0</td>\n",
       "      <td>0</td>\n",
       "      <td>0</td>\n",
       "      <td>0</td>\n",
       "      <td>1</td>\n",
       "      <td>0</td>\n",
       "      <td>0</td>\n",
       "      <td>0</td>\n",
       "      <td>0</td>\n",
       "      <td>0</td>\n",
       "      <td>0</td>\n",
       "      <td>0</td>\n",
       "      <td>0</td>\n",
       "      <td>0</td>\n",
       "      <td>0</td>\n",
       "      <td>0</td>\n",
       "      <td>0</td>\n",
       "      <td>0</td>\n",
       "      <td>0</td>\n",
       "      <td>1</td>\n",
       "      <td>0</td>\n",
       "      <td>0</td>\n",
       "      <td>0</td>\n",
       "      <td>Slowdive</td>\n",
       "      <td>Dead Oceans</td>\n",
       "    </tr>\n",
       "    <tr>\n",
       "      <th>2363</th>\n",
       "      <td>0.195000</td>\n",
       "      <td>0.129</td>\n",
       "      <td>0.647</td>\n",
       "      <td>0.2920</td>\n",
       "      <td>0.1040</td>\n",
       "      <td>Machine Gun</td>\n",
       "      <td>0.0393</td>\n",
       "      <td>0.156970</td>\n",
       "      <td>0.048824</td>\n",
       "      <td>0.792687</td>\n",
       "      <td>0.633165</td>\n",
       "      <td>0.41</td>\n",
       "      <td>0</td>\n",
       "      <td>0</td>\n",
       "      <td>0</td>\n",
       "      <td>0</td>\n",
       "      <td>0</td>\n",
       "      <td>0</td>\n",
       "      <td>0</td>\n",
       "      <td>0</td>\n",
       "      <td>0</td>\n",
       "      <td>0</td>\n",
       "      <td>0</td>\n",
       "      <td>0</td>\n",
       "      <td>0</td>\n",
       "      <td>0</td>\n",
       "      <td>0</td>\n",
       "      <td>0</td>\n",
       "      <td>0</td>\n",
       "      <td>0</td>\n",
       "      <td>0</td>\n",
       "      <td>0</td>\n",
       "      <td>0</td>\n",
       "      <td>0</td>\n",
       "      <td>0</td>\n",
       "      <td>0</td>\n",
       "      <td>0</td>\n",
       "      <td>0</td>\n",
       "      <td>0</td>\n",
       "      <td>0</td>\n",
       "      <td>0</td>\n",
       "      <td>1</td>\n",
       "      <td>0</td>\n",
       "      <td>0</td>\n",
       "      <td>0</td>\n",
       "      <td>Slowdive</td>\n",
       "      <td>Dead Oceans</td>\n",
       "    </tr>\n",
       "    <tr>\n",
       "      <th>2364</th>\n",
       "      <td>0.001370</td>\n",
       "      <td>0.431</td>\n",
       "      <td>0.482</td>\n",
       "      <td>0.4410</td>\n",
       "      <td>0.2380</td>\n",
       "      <td>Ballad Of Sister Sue</td>\n",
       "      <td>0.1230</td>\n",
       "      <td>0.126232</td>\n",
       "      <td>0.049432</td>\n",
       "      <td>0.816804</td>\n",
       "      <td>0.524579</td>\n",
       "      <td>0.38</td>\n",
       "      <td>0</td>\n",
       "      <td>0</td>\n",
       "      <td>0</td>\n",
       "      <td>0</td>\n",
       "      <td>0</td>\n",
       "      <td>0</td>\n",
       "      <td>0</td>\n",
       "      <td>0</td>\n",
       "      <td>0</td>\n",
       "      <td>0</td>\n",
       "      <td>0</td>\n",
       "      <td>0</td>\n",
       "      <td>0</td>\n",
       "      <td>0</td>\n",
       "      <td>0</td>\n",
       "      <td>0</td>\n",
       "      <td>0</td>\n",
       "      <td>0</td>\n",
       "      <td>0</td>\n",
       "      <td>0</td>\n",
       "      <td>1</td>\n",
       "      <td>0</td>\n",
       "      <td>0</td>\n",
       "      <td>0</td>\n",
       "      <td>0</td>\n",
       "      <td>0</td>\n",
       "      <td>0</td>\n",
       "      <td>0</td>\n",
       "      <td>0</td>\n",
       "      <td>1</td>\n",
       "      <td>0</td>\n",
       "      <td>0</td>\n",
       "      <td>0</td>\n",
       "      <td>Slowdive</td>\n",
       "      <td>Dead Oceans</td>\n",
       "    </tr>\n",
       "    <tr>\n",
       "      <th>2365</th>\n",
       "      <td>0.000057</td>\n",
       "      <td>0.227</td>\n",
       "      <td>0.480</td>\n",
       "      <td>0.8350</td>\n",
       "      <td>0.0477</td>\n",
       "      <td>Catch The Breeze</td>\n",
       "      <td>0.1880</td>\n",
       "      <td>0.159020</td>\n",
       "      <td>0.047115</td>\n",
       "      <td>0.841203</td>\n",
       "      <td>0.379780</td>\n",
       "      <td>0.37</td>\n",
       "      <td>0</td>\n",
       "      <td>0</td>\n",
       "      <td>0</td>\n",
       "      <td>0</td>\n",
       "      <td>0</td>\n",
       "      <td>0</td>\n",
       "      <td>0</td>\n",
       "      <td>0</td>\n",
       "      <td>0</td>\n",
       "      <td>0</td>\n",
       "      <td>0</td>\n",
       "      <td>0</td>\n",
       "      <td>0</td>\n",
       "      <td>0</td>\n",
       "      <td>0</td>\n",
       "      <td>0</td>\n",
       "      <td>0</td>\n",
       "      <td>0</td>\n",
       "      <td>0</td>\n",
       "      <td>0</td>\n",
       "      <td>0</td>\n",
       "      <td>0</td>\n",
       "      <td>0</td>\n",
       "      <td>0</td>\n",
       "      <td>0</td>\n",
       "      <td>0</td>\n",
       "      <td>0</td>\n",
       "      <td>0</td>\n",
       "      <td>0</td>\n",
       "      <td>1</td>\n",
       "      <td>0</td>\n",
       "      <td>0</td>\n",
       "      <td>0</td>\n",
       "      <td>Slowdive</td>\n",
       "      <td>Dead Oceans</td>\n",
       "    </tr>\n",
       "  </tbody>\n",
       "</table>\n",
       "</div>"
      ],
      "text/plain": [
       "      acousticness  danceability  energy  instrumentalness  liveness  \\\n",
       "2361      0.162000         0.181   0.486            0.2030    0.1110   \n",
       "2362      0.098700         0.172   0.745            0.0073    0.2350   \n",
       "2363      0.195000         0.129   0.647            0.2920    0.1040   \n",
       "2364      0.001370         0.431   0.482            0.4410    0.2380   \n",
       "2365      0.000057         0.227   0.480            0.8350    0.0477   \n",
       "\n",
       "                      name  valence  scaled_speech  scaled_duration  \\\n",
       "2361           Machine Gun   0.0545       0.152872         0.048459   \n",
       "2362               40 Days   0.4910       0.153282         0.035013   \n",
       "2363           Machine Gun   0.0393       0.156970         0.048824   \n",
       "2364  Ballad Of Sister Sue   0.1230       0.126232         0.049432   \n",
       "2365      Catch The Breeze   0.1880       0.159020         0.047115   \n",
       "\n",
       "      scaled_loudness  scaled_tempo  scaled_pop  A Minor  Ab Major  Ab Minor  \\\n",
       "2361         0.716686      0.633260        0.40        0         0         0   \n",
       "2362         0.774223      0.757644        0.37        0         0         0   \n",
       "2363         0.792687      0.633165        0.41        0         0         0   \n",
       "2364         0.816804      0.524579        0.38        0         0         0   \n",
       "2365         0.841203      0.379780        0.37        0         0         0   \n",
       "\n",
       "      B Major  B Minor  Bb Major  Bb Minor  C Major  C Minor  D Major  \\\n",
       "2361        0        0         0         0        0        0        0   \n",
       "2362        0        0         0         0        0        0        0   \n",
       "2363        0        0         0         0        0        0        0   \n",
       "2364        0        0         0         0        0        0        0   \n",
       "2365        0        0         0         0        0        0        0   \n",
       "\n",
       "      D Minor  Db Major  Db Minor  E Major  E Minor  Eb Major  Eb Minor  \\\n",
       "2361        0         0         0        0        0         0         0   \n",
       "2362        0         0         0        0        1         0         0   \n",
       "2363        0         0         0        0        0         0         0   \n",
       "2364        0         0         0        0        0         0         0   \n",
       "2365        0         0         0        0        0         0         0   \n",
       "\n",
       "      F Major  F Minor  F# Major  F# Minor  G Major  G Minor  1930s  1940s  \\\n",
       "2361        0        0         0         1        0        0      0      0   \n",
       "2362        0        0         0         0        0        0      0      0   \n",
       "2363        0        0         0         0        0        0      0      0   \n",
       "2364        0        0         0         1        0        0      0      0   \n",
       "2365        0        0         0         0        0        0      0      0   \n",
       "\n",
       "      1950s  1960s  1970s  1980s  1990s  2000s  2010s  2020s    artist  \\\n",
       "2361      0      0      0      0      1      0      0      0  Slowdive   \n",
       "2362      0      0      0      0      1      0      0      0  Slowdive   \n",
       "2363      0      0      0      0      1      0      0      0  Slowdive   \n",
       "2364      0      0      0      0      1      0      0      0  Slowdive   \n",
       "2365      0      0      0      0      1      0      0      0  Slowdive   \n",
       "\n",
       "            label  \n",
       "2361  Dead Oceans  \n",
       "2362  Dead Oceans  \n",
       "2363  Dead Oceans  \n",
       "2364  Dead Oceans  \n",
       "2365  Dead Oceans  "
      ]
     },
     "execution_count": 13,
     "metadata": {},
     "output_type": "execute_result"
    }
   ],
   "source": [
    "# dataframe of all Dead Oceans songs as a test sample\n",
    "ocean_df = labels_df[labels_df.label == 'Dead Oceans']\n",
    "ocean_df.head()"
   ]
  },
  {
   "cell_type": "markdown",
   "metadata": {},
   "source": [
    "### Cosine Similarities\n",
    "Calculate cosine similarities between user playlist and all Dead Oceans songs"
   ]
  },
  {
   "cell_type": "code",
   "execution_count": 14,
   "metadata": {},
   "outputs": [],
   "source": [
    "# turn both dataframes into numpy arrays\n",
    "playlist_array = np.array(playlist_df.drop(['decade','duration_ms','key','key_mode','letter_keys',\n",
    "                     'loudness','mode','modes','popularity','release_date','speechiness',\n",
    "                         'tempo','track/artist','year'], axis=1))\n",
    "\n",
    "label_array = np.array(ocean_df.drop(['artist','name','label'], axis=1))"
   ]
  },
  {
   "cell_type": "code",
   "execution_count": 15,
   "metadata": {
    "scrolled": false
   },
   "outputs": [
    {
     "name": "stdout",
     "output_type": "stream",
     "text": [
      "[0.38904353 0.46589634 0.48386475 0.38960233 0.42705073 0.46035863\n",
      " 0.40753591 0.42156604 0.36652231 0.41231999 0.38249054 0.40987388\n",
      " 0.36561725 0.47401422 0.44748702 0.41920498 0.46712641 0.39691026\n",
      " 0.40091156 0.42794671 0.40628882 0.59496112 0.45658194 0.51758904\n",
      " 0.4159062  0.47779255 0.48032646 0.47290322 0.7098198  0.45620336\n",
      " 0.51043236 0.39957044 0.53646118 0.55202864 0.51441034 0.52255538\n",
      " 0.50318043 0.51947232 0.58690502 0.47451751 0.5610471  0.55895519\n",
      " 0.53081723 0.48504595 0.50688221 0.53296054 0.49510649 0.47885558\n",
      " 0.49158752 0.46643842 0.5195827  0.50950722 0.51070451 0.48280636\n",
      " 0.47537512 0.73796553 0.69524349 0.53710884 0.50533889 0.5193792\n",
      " 0.58388043 0.49777546 0.50365674 0.47598043 0.53645739 0.49586139\n",
      " 0.58355833 0.51416303 0.41267243 0.4821354  0.62145633 0.44607417\n",
      " 0.42858155 0.39431499 0.51420207 0.46575851 0.5281387  0.5452008\n",
      " 0.43950446 0.49835206 0.41053792]\n"
     ]
    }
   ],
   "source": [
    "# turn both arrays into sparse matrices\n",
    "playlist_sparse = sparse.csr_matrix(playlist_array)\n",
    "label_sparse = sparse.csr_matrix(label_array)\n",
    "\n",
    "# get cosine similarities between user playlist and record label\n",
    "cosim = cosine_similarity(playlist_sparse, label_sparse,dense_output=True)\n",
    "print(cosim[0])\n"
   ]
  },
  {
   "cell_type": "markdown",
   "metadata": {},
   "source": [
    "### Make Recommendations\n",
    "Sort by highest similarities and map the output to song names/artists"
   ]
  },
  {
   "cell_type": "code",
   "execution_count": 16,
   "metadata": {},
   "outputs": [
    {
     "name": "stdout",
     "output_type": "stream",
     "text": [
      "Dead Oceans songs similar to Only Child - Tierra Whack :\n",
      "\n",
      "[(0.7379655283377358, 'Scott Street', 'Phoebe Bridgers'), (0.7098198007257144, 'Four Winds', 'Bright Eyes')]\n",
      "================================================================================================================\n",
      "Dead Oceans songs similar to Biscuit Town - King Krule :\n",
      "\n",
      "[(0.6746890521982198, 'Day Glo', 'Brazos'), (0.6718588913492245, 'Four Winds', 'Bright Eyes')]\n",
      "================================================================================================================\n",
      "Dead Oceans songs similar to Bags - Clairo :\n",
      "\n",
      "[(0.7481395058897707, 'Scott Street', 'Phoebe Bridgers'), (0.7001162444311917, 'Smoke Signals', 'Phoebe Bridgers')]\n",
      "================================================================================================================\n",
      "Dead Oceans songs similar to Eventually - Tame Impala :\n",
      "\n",
      "[(0.6272757098750275, 'Scott Street', 'Phoebe Bridgers'), (0.6182682360378633, 'Smoke Signals', 'Phoebe Bridgers')]\n",
      "================================================================================================================\n",
      "Dead Oceans songs similar to White Ferrari - Frank Ocean :\n",
      "\n",
      "[(0.6101156727757195, 'Scott Street', 'Phoebe Bridgers'), (0.5954600571939443, 'Smoke Signals', 'Phoebe Bridgers')]\n",
      "================================================================================================================\n",
      "Dead Oceans songs similar to Charcoal Baby - Blood Orange :\n",
      "\n",
      "[(0.7576168850516913, 'Scott Street', 'Phoebe Bridgers'), (0.7309576854413703, 'Smoke Signals', 'Phoebe Bridgers')]\n",
      "================================================================================================================\n"
     ]
    }
   ],
   "source": [
    "for i in range(len(cosim)):\n",
    "    print('Dead Oceans songs similar to', playlist_df.iloc[i]['track/artist'],':\\n' )\n",
    "    print(sorted(list(zip(cosim[i],ocean_df['name'], ocean_df['artist'])), reverse=True)[:2])\n",
    "    print('================================================================================================================')"
   ]
  },
  {
   "cell_type": "markdown",
   "metadata": {},
   "source": [
    "# Model Optimization\n",
    "Put it all in functions, and generalize to any record label. If music label is not provided, the function will return songs from the label that is most similar to user's given playlist."
   ]
  },
  {
   "cell_type": "markdown",
   "metadata": {},
   "source": [
    "### Function: Collect Data from Spotify API"
   ]
  },
  {
   "cell_type": "code",
   "execution_count": 17,
   "metadata": {},
   "outputs": [],
   "source": [
    "def spotifyAPI(playlist):\n",
    "    '''input: user playlist of songs (list) in format [song name - artist, song name - artist, etc]\n",
    "    Case insensitive.\n",
    "        output: Pandas dataframe of raw song attributes collected from Spotify'''\n",
    "\n",
    "    spotify = spotipy.Spotify(auth_manager=SpotifyClientCredentials())\n",
    "\n",
    "    # save song id's, release dates, and song popularity in lists\n",
    "    song_ids = []\n",
    "    release_dates = []\n",
    "    popularities = []\n",
    "    for song in playlist:\n",
    "        try:\n",
    "            results = spotify.search(q=song, type='track')\n",
    "            song_ids.append(results['tracks']['items'][0]['id'])\n",
    "            release_dates.append(results['tracks']['items'][0]['album']['release_date'])\n",
    "            popularities.append(results['tracks']['items'][0]['popularity'])\n",
    "        except:\n",
    "            print(\"Couldn't find:\", song, '\\n')\n",
    "            pass\n",
    "\n",
    "        \n",
    "    # use the song id's gathered above to get audio attributes for each song\n",
    "    attributes = spotify.audio_features(tracks=song_ids)\n",
    "    \n",
    "    # combine the song popularity and release dates with the rest of the attributes\n",
    "    for i in range(len(attributes)):\n",
    "        attributes[i]['track/artist'] = playlist[i]\n",
    "        attributes[i]['popularity'] = popularities[i]\n",
    "        attributes[i]['release_date'] = release_dates[i]\n",
    "\n",
    "    # create a dataframe from all the attributes\n",
    "    playlist_df = pd.DataFrame(attributes)\n",
    "    return playlist_df"
   ]
  },
  {
   "cell_type": "markdown",
   "metadata": {},
   "source": [
    "### Function: Clean and Prep Raw Dataframe"
   ]
  },
  {
   "cell_type": "code",
   "execution_count": 18,
   "metadata": {},
   "outputs": [],
   "source": [
    "def clean(playlist_df):\n",
    "    '''input: Pandas dataframe of raw spotify song attributes collected from Spotify API\n",
    "        output: Cleaned dataframe, with dummy variables and fewer unnecessary columns'''\n",
    "    \n",
    "    \n",
    "    # drop unecessary features \n",
    "    playlist_df.drop(['type', 'id', 'uri', 'track_href', 'analysis_url', 'time_signature'], axis=1, inplace=True)\n",
    "\n",
    "    # set release date as datetime\n",
    "    playlist_df['release_date'] = pd.to_datetime(playlist_df['release_date'])\n",
    "\n",
    "    # make year column datetime\n",
    "    playlist_df['year'] = playlist_df['release_date'].dt.year\n",
    "\n",
    "    # create decade column\n",
    "    playlist_df['decade'] = playlist_df['year'].apply(lambda x: str(x)[:3]+'0s')\n",
    "    \n",
    "    # change keys/mode to letter/maj/min representations\n",
    "    keys = {0:'C', 1:'Db',2:'D',3:'Eb',4:'E',5:'F',6:'F#',7:'G',8:'Ab',9:'A',10:'Bb',11:'B'}\n",
    "    modes = {0:'Minor',1:'Major'}\n",
    "\n",
    "    # create new column in df\n",
    "    playlist_df['letter_keys'] = playlist_df['key'].map(keys)\n",
    "    playlist_df['modes'] = playlist_df['mode'].map(modes)\n",
    "\n",
    "    # create a column that concatonates key with mode\n",
    "    playlist_df['key_mode'] = playlist_df['letter_keys'] + \" \" + playlist_df['modes']\n",
    "    \n",
    "    # Bring outliers down/up to 5 standard deviations from the mean\n",
    "    for feat in playlist_df.columns:\n",
    "        try:\n",
    "            abv_5_std = playlist_df[feat].mean()+ 5* playlist_df[feat].std()\n",
    "            below_5_std = playlist_df[feat].mean()- 5* playlist_df[feat].std()\n",
    "            conditions = [playlist_df[feat]>abv_5_std, playlist_df[feat]<below_5_std]\n",
    "            choices = [abv_5_std, below_5_std]\n",
    "            df[feat] = np.select(conditions, choices, playlist_df[feat])\n",
    "        except:\n",
    "            pass\n",
    "        \n",
    "    # Scale features down to 0-1\n",
    "    playlist_df['scaled_speech'] = (playlist_df['speechiness'] - min(playlist_df['speechiness'])) / (max(playlist_df['speechiness']) - min(playlist_df['speechiness']))\n",
    "    playlist_df['scaled_duration'] = (playlist_df['duration_ms'] - min(playlist_df['duration_ms'])) / (max(playlist_df['duration_ms']) - min(playlist_df['duration_ms']))\n",
    "    playlist_df['scaled_loudness'] = (playlist_df['loudness'] - min(playlist_df['loudness'])) / (max(playlist_df['loudness']) - min(playlist_df['loudness']))\n",
    "    playlist_df['scaled_tempo'] = (playlist_df['tempo'] - min(playlist_df['tempo'])) / (max(playlist_df['tempo']) - min(playlist_df['tempo']))\n",
    "    playlist_df['scaled_pop'] = (playlist_df['popularity'] - min(playlist_df['popularity'])) / (max(playlist_df['popularity']) - min(playlist_df['popularity']))\n",
    "\n",
    "    # all the dummies from the big dataset\n",
    "    all_dummies = ['A Major', 'A Minor',\n",
    "           'Ab Major', 'Ab Minor', 'B Major', 'B Minor', 'Bb Major', 'Bb Minor',\n",
    "           'C Major', 'C Minor', 'D Major', 'D Minor', 'Db Major', 'Db Minor',\n",
    "           'E Major', 'E Minor', 'Eb Major', 'Eb Minor', 'F Major', 'F Minor',\n",
    "           'F# Major', 'F# Minor', 'G Major', 'G Minor', '1920s', '1930s', '1940s',\n",
    "           '1950s', '1960s', '1970s', '1980s', '1990s', '2000s', '2010s', '2020s']\n",
    "\n",
    "    # make dummies for key/mode and decades\n",
    "    key_dummies = pd.get_dummies(playlist_df['key_mode'])\n",
    "    decade_dummies = pd.get_dummies(playlist_df['decade'])\n",
    "    dummies = pd.concat([ key_dummies, decade_dummies], axis=1)\n",
    "\n",
    "    # check which dummies weren't created - we need to add these in as zeros so the dataframes have the same shape\n",
    "    playlist_df = pd.concat([playlist_df, key_dummies, decade_dummies], axis=1)\n",
    "    zeroes = list(set(all_dummies) - set(dummies.columns))\n",
    "\n",
    "    # add those dummies in as zeroes\n",
    "    for col in zeroes:\n",
    "        playlist_df[col] = 0\n",
    "\n",
    "    # drop first column for dummies\n",
    "    playlist_df.drop(['A Major', '1920s'],axis=1, inplace=True)\n",
    "    return(playlist_df)"
   ]
  },
  {
   "cell_type": "markdown",
   "metadata": {},
   "source": [
    "### Function: Make Recommendations"
   ]
  },
  {
   "cell_type": "code",
   "execution_count": 19,
   "metadata": {},
   "outputs": [],
   "source": [
    "def get_recs(playlist, record_label=None):\n",
    "    '''input 1: user playlist of songs (list) in format \n",
    "            [song name - artist, song name - artist, etc.] Case insensitive.\n",
    "    input 2: (optional) record label name (string.) If record label not provided,\n",
    "        function will use label that is most similar to user's given playlist.\n",
    "    output: Playlist (text output) including Record label name, and recommended songs\n",
    "        '''\n",
    "    \n",
    "    # collect and clean spotify data based on user's playlist\n",
    "    raw_playlist_df = spotifyAPI(playlist)\n",
    "    clean_playlist_df = clean(raw_playlist_df)\n",
    "\n",
    "    # import record labels dataset\n",
    "    labels_df = pd.read_csv('data/cleaned_data_labels.csv',index_col=[0])\n",
    "\n",
    "    # drop unnecesary features\n",
    "    labels_df.drop(['key_mode', 'decade', 'modes', 'letter_keys',  'year', \n",
    "             'release_date', 'mode', 'loudness', 'key', 'id', 'explicit', \n",
    "             'tempo', 'duration_ms', 'speechiness', 'popularity' ], axis=1, inplace=True)\n",
    "    \n",
    "    label_pool=[]\n",
    "    if not record_label:\n",
    "        label_pool = labels_df.label.unique()\n",
    "    else:\n",
    "        label_pool.append(record_label)    \n",
    "    \n",
    "    label_dict={}\n",
    "    for label in label_pool:\n",
    "        # dataframe of all specified label's songs\n",
    "        label_df = labels_df[labels_df.label == label]\n",
    "\n",
    "        # turn both dataframes into numpy arrays\n",
    "        playlist_array = np.array(clean_playlist_df.drop(['decade','duration_ms','key',\n",
    "                        'key_mode','letter_keys','loudness','mode','modes','popularity',\n",
    "                        'release_date','speechiness','tempo','track/artist','year'], axis=1))\n",
    "        label_array = np.array(label_df.drop(['artist','name','label'], axis=1))\n",
    "\n",
    "        # turn both arrays into sparse matrices\n",
    "        playlist_sparse = sparse.csr_matrix(playlist_array)\n",
    "        label_sparse = sparse.csr_matrix(label_array)\n",
    "\n",
    "        # get cosine similarities between user playlist and record label\n",
    "        # cosim contains multiple arrays, one for each song from user playlist\n",
    "        label_dict[label] =cosine_similarity(playlist_sparse, label_sparse,dense_output=True) \n",
    "\n",
    "    # flatten each song cosim per label and put in dictionary\n",
    "    mean_cosims ={}\n",
    "    for key in label_dict:\n",
    "        flattened_cosim = [item for items in label_dict[key] for item in items]\n",
    "        mean_cosims[statistics.mean(sorted(flattened_cosim)[:10])] = key\n",
    "    \n",
    "    # find best record label by getting one with largest avg cosine sim\n",
    "    best_label = (mean_cosims[sorted(mean_cosims, reverse=True)[0]])\n",
    "    label_df = labels_df[labels_df.label == best_label]\n",
    "    song_cosims = label_dict[best_label]\n",
    "    \n",
    "    # go through best label and get track name and artist with highest cosim\n",
    "    recs=[]\n",
    "    for song_cosim in song_cosims:\n",
    "        four_best = sorted(list(zip(song_cosim,label_df['name'], label_df['artist'])), reverse=True)[:4]\n",
    "        recs.append((four_best[0][1]+', by '+ four_best[0][2]))\n",
    "\n",
    "    # remove duplicates, add a different song\n",
    "    recs_no_dup = list(set(recs))\n",
    "    if len(recs_no_dup)< len(recs):\n",
    "        recs_no_dup.append((four_best[1][1]+', by '+ four_best[1][2]))\n",
    "        \n",
    "    # output the results\n",
    "    if not record_label:\n",
    "        print(\"We think you're gonna like\",best_label,'records!')\n",
    "    print(best_label,'songs similar to your playlist:\\n')\n",
    "    for song in recs_no_dup:\n",
    "        print(song)"
   ]
  },
  {
   "cell_type": "markdown",
   "metadata": {},
   "source": [
    "### Test the Function"
   ]
  },
  {
   "cell_type": "code",
   "execution_count": 20,
   "metadata": {},
   "outputs": [
    {
     "name": "stdout",
     "output_type": "stream",
     "text": [
      "Couldn't find: I Think I Smell A Rat - The White Stripes \n",
      "\n",
      "XL songs similar to your playlist:\n",
      "\n",
      "Sunflower (feat. Steve Lacy), by Vampire Weekend\n",
      "Shabop Shalom, by Devendra Banhart\n",
      "Rolling in the Deep, by Adele\n",
      "Backdrifts, by Radiohead\n"
     ]
    }
   ],
   "source": [
    "# feed in XL Records songs, to see if we get songs from XL records back\n",
    "XL_playlist = [\"Shabop Shalom - Devendra Banhart\", \"jasmine - demo - Jai Paul\",\n",
    "               \"I Think I Smell A Rat - The White Stripes\", \"Hometown Glory - Adele\",\n",
    "                \"Close To You - The Avalanches\"]\n",
    "get_recs(XL_playlist, 'XL')"
   ]
  },
  {
   "cell_type": "markdown",
   "metadata": {},
   "source": [
    "# Cluster-Based Recommendation\n",
    "Now we use k-means clustering to generate recommendations\n",
    "### Collect/Clean Sample Playlist"
   ]
  },
  {
   "cell_type": "code",
   "execution_count": 21,
   "metadata": {},
   "outputs": [],
   "source": [
    "# create a sample playlist\n",
    "playlist = ['Only Child - Tierra Whack','Biscuit Town - King Krule', \n",
    "            'Bags - Clairo', 'Eventually - Tame Impala',\n",
    "               'White Ferrari - Frank Ocean', 'Charcoal Baby - Blood Orange']"
   ]
  },
  {
   "cell_type": "code",
   "execution_count": 22,
   "metadata": {},
   "outputs": [],
   "source": [
    "# Use the above functions to collect song attributes and clean data from Spotify API\n",
    "raw_playlist_df = spotifyAPI(playlist)\n",
    "playlist_df = clean(raw_playlist_df)\n",
    "\n",
    "# create name and artist columns from track/artist\n",
    "playlist_df['name'] = playlist_df['track/artist'].apply(lambda x: x.split(' - ')[0])\n",
    "playlist_df['artist'] = playlist_df['track/artist'].apply(lambda x: x.split(' - ')[1])\n",
    "\n",
    "# label each playlist song in new column\n",
    "playlist_df['playlist_track'] = 1\n",
    "\n",
    "# drop unnecessary features\n",
    "playlist_df.drop(['track/artist','decade','duration_ms','key','key_mode','letter_keys',\n",
    "                     'loudness','mode','modes','popularity','release_date','speechiness',\n",
    "                         'tempo','year'], axis=1, inplace=True)\n",
    "label_df = ocean_df.drop(['label'], axis=1)\n",
    "\n",
    "# label each label track as 0 in the playlist column\n",
    "label_df['playlist_track'] = 0"
   ]
  },
  {
   "cell_type": "markdown",
   "metadata": {},
   "source": [
    "### Concat playlist and label dataframes"
   ]
  },
  {
   "cell_type": "code",
   "execution_count": 23,
   "metadata": {},
   "outputs": [],
   "source": [
    "# create main dataframe using playlist songs and all label's songs, to be fed into model\n",
    "main_df = pd.concat([playlist_df, label_df], axis=0).reset_index(drop=True)\n",
    "\n",
    "# convert main dataframe to array\n",
    "main_array = np.array(main_df.drop(['name', 'artist','playlist_track'], axis=1))"
   ]
  },
  {
   "cell_type": "markdown",
   "metadata": {},
   "source": [
    "### K-Means Clustering"
   ]
  },
  {
   "cell_type": "code",
   "execution_count": 24,
   "metadata": {},
   "outputs": [
    {
     "data": {
      "text/plain": [
       "array([3, 3, 2, 2, 3, 2, 1, 1, 1, 1, 1, 1, 1, 1, 1, 1, 1, 1, 1, 1, 1, 1,\n",
       "       1, 1, 1, 1, 1, 1, 0, 0, 0, 5, 0, 0, 0, 5, 0, 5, 1, 5, 0, 0, 0, 0,\n",
       "       5, 0, 2, 2, 2, 0, 2, 2, 4, 4, 2, 2, 3, 2, 2, 4, 4, 3, 3, 4, 2, 5,\n",
       "       3, 0, 2, 5, 0, 2, 2, 0, 4, 2, 3, 4, 2, 2, 2, 2, 5, 3, 2, 3, 0],\n",
       "      dtype=int32)"
      ]
     },
     "execution_count": 24,
     "metadata": {},
     "output_type": "execute_result"
    }
   ],
   "source": [
    "# instantiate kmeans class and set n_clusters\n",
    "k_means = KMeans(random_state=1, n_clusters=6) # default n_clusters = 8\n",
    "\n",
    "# fit to data\n",
    "k_means.fit(main_array)\n",
    "\n",
    "# predict which clusters each song belongs too\n",
    "predicted_clusters = k_means.fit_predict(main_array)\n",
    "\n",
    "# each instance was assigned to one of the clusters\n",
    "predicted_clusters "
   ]
  },
  {
   "cell_type": "code",
   "execution_count": 25,
   "metadata": {
    "scrolled": true
   },
   "outputs": [],
   "source": [
    "# concatenate cluster labels with main dataframe\n",
    "pred_series = pd.Series(predicted_clusters)\n",
    "main_df_w_pred = pd.concat([main_df, pred_series], axis=1)\n",
    "main_df_w_pred.rename(columns={0:'cluster'},inplace=True)"
   ]
  },
  {
   "cell_type": "markdown",
   "metadata": {},
   "source": [
    "### Inspect Each Cluster"
   ]
  },
  {
   "cell_type": "code",
   "execution_count": 26,
   "metadata": {},
   "outputs": [
    {
     "data": {
      "text/html": [
       "<div>\n",
       "<style scoped>\n",
       "    .dataframe tbody tr th:only-of-type {\n",
       "        vertical-align: middle;\n",
       "    }\n",
       "\n",
       "    .dataframe tbody tr th {\n",
       "        vertical-align: top;\n",
       "    }\n",
       "\n",
       "    .dataframe thead th {\n",
       "        text-align: right;\n",
       "    }\n",
       "</style>\n",
       "<table border=\"1\" class=\"dataframe\">\n",
       "  <thead>\n",
       "    <tr style=\"text-align: right;\">\n",
       "      <th></th>\n",
       "      <th>name</th>\n",
       "      <th>artist</th>\n",
       "      <th>cluster</th>\n",
       "      <th>playlist_track</th>\n",
       "    </tr>\n",
       "  </thead>\n",
       "  <tbody>\n",
       "    <tr>\n",
       "      <th>28</th>\n",
       "      <td>Sunrise, Sunset</td>\n",
       "      <td>Bright Eyes</td>\n",
       "      <td>0</td>\n",
       "      <td>0</td>\n",
       "    </tr>\n",
       "    <tr>\n",
       "      <th>29</th>\n",
       "      <td>Land Locked Blues</td>\n",
       "      <td>Bright Eyes</td>\n",
       "      <td>0</td>\n",
       "      <td>0</td>\n",
       "    </tr>\n",
       "    <tr>\n",
       "      <th>30</th>\n",
       "      <td>Road To Joy</td>\n",
       "      <td>Bright Eyes</td>\n",
       "      <td>0</td>\n",
       "      <td>0</td>\n",
       "    </tr>\n",
       "    <tr>\n",
       "      <th>32</th>\n",
       "      <td>Poison Oak</td>\n",
       "      <td>Bright Eyes</td>\n",
       "      <td>0</td>\n",
       "      <td>0</td>\n",
       "    </tr>\n",
       "    <tr>\n",
       "      <th>33</th>\n",
       "      <td>Devil Town</td>\n",
       "      <td>Bright Eyes</td>\n",
       "      <td>0</td>\n",
       "      <td>0</td>\n",
       "    </tr>\n",
       "    <tr>\n",
       "      <th>34</th>\n",
       "      <td>Four Winds</td>\n",
       "      <td>Bright Eyes</td>\n",
       "      <td>0</td>\n",
       "      <td>0</td>\n",
       "    </tr>\n",
       "    <tr>\n",
       "      <th>36</th>\n",
       "      <td>The Calendar Hung Itself…</td>\n",
       "      <td>Bright Eyes</td>\n",
       "      <td>0</td>\n",
       "      <td>0</td>\n",
       "    </tr>\n",
       "    <tr>\n",
       "      <th>40</th>\n",
       "      <td>Haligh, Haligh, A Lie, Haligh</td>\n",
       "      <td>Bright Eyes</td>\n",
       "      <td>0</td>\n",
       "      <td>0</td>\n",
       "    </tr>\n",
       "    <tr>\n",
       "      <th>41</th>\n",
       "      <td>First Day Of My Life</td>\n",
       "      <td>Bright Eyes</td>\n",
       "      <td>0</td>\n",
       "      <td>0</td>\n",
       "    </tr>\n",
       "    <tr>\n",
       "      <th>42</th>\n",
       "      <td>Lua</td>\n",
       "      <td>Bright Eyes</td>\n",
       "      <td>0</td>\n",
       "      <td>0</td>\n",
       "    </tr>\n",
       "    <tr>\n",
       "      <th>43</th>\n",
       "      <td>Lover I Don't Have To Love</td>\n",
       "      <td>Bright Eyes</td>\n",
       "      <td>0</td>\n",
       "      <td>0</td>\n",
       "    </tr>\n",
       "    <tr>\n",
       "      <th>45</th>\n",
       "      <td>We Are Nowhere And It's Now</td>\n",
       "      <td>Bright Eyes</td>\n",
       "      <td>0</td>\n",
       "      <td>0</td>\n",
       "    </tr>\n",
       "    <tr>\n",
       "      <th>49</th>\n",
       "      <td>Wolves</td>\n",
       "      <td>Phosphorescent</td>\n",
       "      <td>0</td>\n",
       "      <td>0</td>\n",
       "    </tr>\n",
       "    <tr>\n",
       "      <th>67</th>\n",
       "      <td>It's Gonna Take an Airplane</td>\n",
       "      <td>Destroyer</td>\n",
       "      <td>0</td>\n",
       "      <td>0</td>\n",
       "    </tr>\n",
       "    <tr>\n",
       "      <th>70</th>\n",
       "      <td>Painter in Your Pocket</td>\n",
       "      <td>Destroyer</td>\n",
       "      <td>0</td>\n",
       "      <td>0</td>\n",
       "    </tr>\n",
       "    <tr>\n",
       "      <th>73</th>\n",
       "      <td>Day Glo</td>\n",
       "      <td>Brazos</td>\n",
       "      <td>0</td>\n",
       "      <td>0</td>\n",
       "    </tr>\n",
       "    <tr>\n",
       "      <th>86</th>\n",
       "      <td>Lower the Heavens</td>\n",
       "      <td>The Donkeys</td>\n",
       "      <td>0</td>\n",
       "      <td>0</td>\n",
       "    </tr>\n",
       "  </tbody>\n",
       "</table>\n",
       "</div>"
      ],
      "text/plain": [
       "                             name          artist  cluster  playlist_track\n",
       "28                Sunrise, Sunset     Bright Eyes        0               0\n",
       "29              Land Locked Blues     Bright Eyes        0               0\n",
       "30                    Road To Joy     Bright Eyes        0               0\n",
       "32                     Poison Oak     Bright Eyes        0               0\n",
       "33                     Devil Town     Bright Eyes        0               0\n",
       "34                     Four Winds     Bright Eyes        0               0\n",
       "36      The Calendar Hung Itself…     Bright Eyes        0               0\n",
       "40  Haligh, Haligh, A Lie, Haligh     Bright Eyes        0               0\n",
       "41           First Day Of My Life     Bright Eyes        0               0\n",
       "42                            Lua     Bright Eyes        0               0\n",
       "43     Lover I Don't Have To Love     Bright Eyes        0               0\n",
       "45    We Are Nowhere And It's Now     Bright Eyes        0               0\n",
       "49                         Wolves  Phosphorescent        0               0\n",
       "67    It's Gonna Take an Airplane       Destroyer        0               0\n",
       "70         Painter in Your Pocket       Destroyer        0               0\n",
       "73                        Day Glo          Brazos        0               0\n",
       "86              Lower the Heavens     The Donkeys        0               0"
      ]
     },
     "execution_count": 26,
     "metadata": {},
     "output_type": "execute_result"
    }
   ],
   "source": [
    "# Inspect songs in cluster 0\n",
    "main_df_w_pred[['name', 'artist', 'cluster', 'playlist_track']][main_df_w_pred.cluster==0]"
   ]
  },
  {
   "cell_type": "code",
   "execution_count": 27,
   "metadata": {
    "scrolled": true
   },
   "outputs": [
    {
     "data": {
      "text/html": [
       "<div>\n",
       "<style scoped>\n",
       "    .dataframe tbody tr th:only-of-type {\n",
       "        vertical-align: middle;\n",
       "    }\n",
       "\n",
       "    .dataframe tbody tr th {\n",
       "        vertical-align: top;\n",
       "    }\n",
       "\n",
       "    .dataframe thead th {\n",
       "        text-align: right;\n",
       "    }\n",
       "</style>\n",
       "<table border=\"1\" class=\"dataframe\">\n",
       "  <thead>\n",
       "    <tr style=\"text-align: right;\">\n",
       "      <th></th>\n",
       "      <th>name</th>\n",
       "      <th>artist</th>\n",
       "      <th>cluster</th>\n",
       "      <th>playlist_track</th>\n",
       "    </tr>\n",
       "  </thead>\n",
       "  <tbody>\n",
       "    <tr>\n",
       "      <th>52</th>\n",
       "      <td>So We Won't Forget</td>\n",
       "      <td>Khruangbin</td>\n",
       "      <td>4</td>\n",
       "      <td>0</td>\n",
       "    </tr>\n",
       "    <tr>\n",
       "      <th>53</th>\n",
       "      <td>Zionsville</td>\n",
       "      <td>Khruangbin</td>\n",
       "      <td>4</td>\n",
       "      <td>0</td>\n",
       "    </tr>\n",
       "    <tr>\n",
       "      <th>59</th>\n",
       "      <td>Two Fish and an Elephant</td>\n",
       "      <td>Khruangbin</td>\n",
       "      <td>4</td>\n",
       "      <td>0</td>\n",
       "    </tr>\n",
       "    <tr>\n",
       "      <th>60</th>\n",
       "      <td>A Calf Born in Winter</td>\n",
       "      <td>Khruangbin</td>\n",
       "      <td>4</td>\n",
       "      <td>0</td>\n",
       "    </tr>\n",
       "    <tr>\n",
       "      <th>63</th>\n",
       "      <td>I See You</td>\n",
       "      <td>Phoebe Bridgers</td>\n",
       "      <td>4</td>\n",
       "      <td>0</td>\n",
       "    </tr>\n",
       "    <tr>\n",
       "      <th>74</th>\n",
       "      <td>Last Words of a Shooting Star</td>\n",
       "      <td>Mitski</td>\n",
       "      <td>4</td>\n",
       "      <td>0</td>\n",
       "    </tr>\n",
       "    <tr>\n",
       "      <th>77</th>\n",
       "      <td>Francis Forever</td>\n",
       "      <td>Mitski</td>\n",
       "      <td>4</td>\n",
       "      <td>0</td>\n",
       "    </tr>\n",
       "  </tbody>\n",
       "</table>\n",
       "</div>"
      ],
      "text/plain": [
       "                             name           artist  cluster  playlist_track\n",
       "52             So We Won't Forget       Khruangbin        4               0\n",
       "53                     Zionsville       Khruangbin        4               0\n",
       "59       Two Fish and an Elephant       Khruangbin        4               0\n",
       "60          A Calf Born in Winter       Khruangbin        4               0\n",
       "63                      I See You  Phoebe Bridgers        4               0\n",
       "74  Last Words of a Shooting Star           Mitski        4               0\n",
       "77                Francis Forever           Mitski        4               0"
      ]
     },
     "execution_count": 27,
     "metadata": {},
     "output_type": "execute_result"
    }
   ],
   "source": [
    "# Inspect songs in cluster 4\n",
    "main_df_w_pred[['name', 'artist', 'cluster','playlist_track']][main_df_w_pred.cluster==4]"
   ]
  },
  {
   "cell_type": "markdown",
   "metadata": {},
   "source": [
    "### Make Recommendations"
   ]
  },
  {
   "cell_type": "code",
   "execution_count": 28,
   "metadata": {},
   "outputs": [],
   "source": [
    "# look at the clusters most similar to user's playlist\n",
    "relevant_clusters = main_df_w_pred['cluster'][main_df_w_pred.playlist_track==1]\n",
    "\n",
    "# drop the user playlist songs from df, so they aren't recommended again\n",
    "pred_df = main_df_w_pred.drop(main_df_w_pred[main_df_w_pred.playlist_track==1].index)"
   ]
  },
  {
   "cell_type": "code",
   "execution_count": 29,
   "metadata": {},
   "outputs": [
    {
     "name": "stdout",
     "output_type": "stream",
     "text": [
      "Dead Oceans songs similar to your playlist:\n",
      "\n",
      "Smoke Signals, by Phoebe Bridgers\n",
      "Motion Sickness, by Phoebe Bridgers\n",
      "First Love / Late Spring, by Mitski\n",
      "Your Best American Girl, by Mitski\n",
      "White Gloves, by Khruangbin\n",
      "Sugaree, by Phosphorescent\n"
     ]
    }
   ],
   "source": [
    "# return one random recommendation from each cluster\n",
    "recs=[]\n",
    "for k in relevant_clusters:\n",
    "    recs +=pred_df[['name', 'artist']][pred_df.cluster==k].sample(1, random_state=543).values.tolist()\n",
    "    pred_df.drop(pred_df[['name', 'artist']][pred_df.cluster==k].sample(1, random_state=543).index,inplace=True)\n",
    "\n",
    "print('Dead Oceans songs similar to your playlist:\\n')\n",
    "for song in recs:\n",
    "    print(song[0]+', by '+ song[1])"
   ]
  },
  {
   "cell_type": "markdown",
   "metadata": {},
   "source": [
    "### Visualize Clusters"
   ]
  },
  {
   "cell_type": "code",
   "execution_count": 31,
   "metadata": {},
   "outputs": [],
   "source": [
    "# get cluster centers from .cluster_centers_ attribute\n",
    "centers = k_means.cluster_centers_"
   ]
  },
  {
   "cell_type": "markdown",
   "metadata": {},
   "source": [
    "### Principal Component Analysis"
   ]
  },
  {
   "cell_type": "code",
   "execution_count": 33,
   "metadata": {},
   "outputs": [
    {
     "data": {
      "text/plain": [
       "array([0.19956491, 0.16093633])"
      ]
     },
     "execution_count": 33,
     "metadata": {},
     "output_type": "execute_result"
    }
   ],
   "source": [
    "from sklearn.decomposition import PCA\n",
    "pca = PCA(n_components=2).fit(main_df.drop(['name', 'artist','playlist_track'], axis=1))\n",
    "pca_2d = pca.transform(main_df.drop(['name', 'artist','playlist_track'], axis=1))\n",
    "\n",
    "pca.explained_variance_ratio_"
   ]
  },
  {
   "cell_type": "code",
   "execution_count": 40,
   "metadata": {
    "scrolled": true
   },
   "outputs": [
    {
     "data": {
      "image/png": "[encoded data removed]",
      "text/plain": [
       "<Figure size 1440x1080 with 1 Axes>"
      ]
     },
     "metadata": {
      "needs_background": "light"
     },
     "output_type": "display_data"
    }
   ],
   "source": [
    "plt.figure(figsize=(20,15))\n",
    "k_means.labels_[3]\n",
    "plt.title('K-Means Clustering of Dead Oceans Recommendations', fontsize=28)\n",
    "plt.xlabel('Component 1', fontsize=20)\n",
    "plt.ylabel('Component 2', fontsize=20)\n",
    "# plt.scatter(centers[:,0], centers[:,1], s=100, c='black');\n",
    "\n",
    "s1 = plt.scatter(pca_2d[0,0],pca_2d[0,1],c='black', s=100);\n",
    "plt.text(pca_2d[0,0]+.03,pca_2d[0,1],'Only Child, by Tierra Whack', fontdict={'fontsize':16},verticalalignment='center')\n",
    "\n",
    "s2 = plt.scatter(pca_2d[1,0],pca_2d[1,1],c='black', s=100);\n",
    "plt.text(pca_2d[1,0]+.01,pca_2d[1,1]-.15,'Biscuit Town, by King Krule', fontdict={'fontsize':16}, rotation=345)\n",
    "\n",
    "s3 = plt.scatter(pca_2d[2,0],pca_2d[2,1],c='black', s=100);\n",
    "plt.text(pca_2d[2,0]+.03,pca_2d[2,1]-.1,'Bags, by Clairo', fontdict={'fontsize':16}, rotation=345)\n",
    "\n",
    "s4 = plt.scatter(pca_2d[3,0],pca_2d[3,1],c='black', s=100);\n",
    "plt.text(pca_2d[3,0]+.01,pca_2d[3,1]-.15,'Eventually, by Tame Impala', fontdict={'fontsize':16}, rotation=345)\n",
    "\n",
    "s5 = plt.scatter(pca_2d[4,0],pca_2d[4,1],c='black', s=100);\n",
    "plt.text(pca_2d[4,0]+.01,pca_2d[4,1]+.01,'White Ferrari, by Frank Ocean', fontdict={'fontsize':16})\n",
    "\n",
    "s6 = plt.scatter(pca_2d[5,0],pca_2d[5,1],c='black', s=100);\n",
    "plt.text(pca_2d[5,0],pca_2d[5,1]+.03,'Charcoal Baby, by Blood Orange', fontdict={'fontsize':16})\n",
    "\n",
    "for i in range(6, pca_2d.shape[0]):\n",
    "    if k_means.labels_[i] == 0:\n",
    "        c1 =plt.scatter(pca_2d[i,0],pca_2d[i,1],c='b', s=60);\n",
    "    if k_means.labels_[i] == 1:\n",
    "        c2 =plt.scatter(pca_2d[i,0],pca_2d[i,1],c='r', s=60);\n",
    "    if k_means.labels_[i] == 2:\n",
    "        c3=plt.scatter(pca_2d[i,0],pca_2d[i,1],c='orange', s=60);\n",
    "    if k_means.labels_[i] == 3:\n",
    "        c4=plt.scatter(pca_2d[i,0],pca_2d[i,1],c='g', s=60);\n",
    "    if k_means.labels_[i] == 4:\n",
    "        c5=plt.scatter(pca_2d[i,0],pca_2d[i,1],c='purple', s=60);\n",
    "    if k_means.labels_[i] == 5:\n",
    "        c6=plt.scatter(pca_2d[i,0],pca_2d[i,1],c='y', s=60);\n",
    "plt.legend([c1, c2, c3, c4, c5, c6, s1], ['Cluster 1', 'Cluster 2',\n",
    "    'Cluster 3', 'Cluster 4','Cluster 5','Cluster 6', \"User's Songs\"], fontsize=20);\n",
    "plt.savefig('images/clustering.png',quality=95)"
   ]
  },
  {
   "cell_type": "markdown",
   "metadata": {},
   "source": [
    "The above chart visualizes the k-means clustering on a sample playlist, compared to Dead Oceans Records. The plack dots are user playlist songs, which are in clusters 3 and 4, indicated recommendations will be generated from those two clusters."
   ]
  },
  {
   "cell_type": "markdown",
   "metadata": {},
   "source": [
    "### Inspect Distortion"
   ]
  },
  {
   "cell_type": "code",
   "execution_count": 253,
   "metadata": {},
   "outputs": [],
   "source": [
    "# use distortion as metric to classify similarities betwen songs within df\n",
    "distortion = []\n",
    "for k in range(1, 26):  \n",
    "    kmeans = KMeans(n_clusters = k)\n",
    "    kmeans.fit(label_array)\n",
    "    distortion.append(kmeans.inertia_) # inertia_: sum of squared distances of samples to their closest cluster center"
   ]
  },
  {
   "cell_type": "code",
   "execution_count": 254,
   "metadata": {},
   "outputs": [
    {
     "data": {
      "image/png": "[encoded data removed]",
      "text/plain": [
       "<Figure size 720x432 with 1 Axes>"
      ]
     },
     "metadata": {},
     "output_type": "display_data"
    }
   ],
   "source": [
    "# try elbow plot to find best k for this cluster\n",
    "fig = plt.figure(figsize=(10, 6))\n",
    "plt.plot(range(1, 26), distortion, c = 'b')\n",
    "plt.xlabel('Number of Clusters')\n",
    "plt.ylabel('Distortion')\n",
    "plt.title('Elbow curve')\n",
    "plt.show()"
   ]
  },
  {
   "cell_type": "markdown",
   "metadata": {},
   "source": [
    "# Clustering Optimization\n",
    "Put it all in a function to generalize for any music label and playlist"
   ]
  },
  {
   "cell_type": "code",
   "execution_count": 378,
   "metadata": {},
   "outputs": [],
   "source": [
    "def cluster_recs(playlist, label):\n",
    "    '''input 1: user playlist \n",
    "        input 2: music label name (string)\n",
    "        output: '''\n",
    "    \n",
    "    # Use the above functions to collect song attributes and clean data from Spotify API\n",
    "    raw_playlist_df = spotifyAPI(playlist)\n",
    "    playlist_df = clean(raw_playlist_df)\n",
    "\n",
    "    # create name and artist columns from track/artist\n",
    "    playlist_df['name'] = playlist_df['track/artist'].apply(lambda x: x.split(' - ')[0])\n",
    "    playlist_df['artist'] = playlist_df['track/artist'].apply(lambda x: x.split(' - ')[1])\n",
    "\n",
    "    # label each playlist song in new column\n",
    "    playlist_df['playlist_track'] = 1\n",
    "\n",
    "    # drop unnecessary features\n",
    "    playlist_df.drop(['track/artist','decade','duration_ms','key','key_mode','letter_keys',\n",
    "                         'loudness','mode','modes','popularity','release_date','speechiness',\n",
    "                             'tempo','year'], axis=1, inplace=True)\n",
    "    label_df = labels_df[labels_df.label == label].drop(['label'], axis=1)\n",
    "\n",
    "    # label each label track as 0 in the playlist column\n",
    "    label_df['playlist_track'] = 0\n",
    "    \n",
    "    # create main dataframe using playlist songs and all label's songs, to be fed into model\n",
    "    main_df = pd.concat([playlist_df, label_df], axis=0).reset_index(drop=True)\n",
    "\n",
    "    # convert main dataframe to array\n",
    "    main_array = np.array(main_df.drop(['name', 'artist','playlist_track'], axis=1))\n",
    "    \n",
    "    # instantiate kmeans class and set n_clusters\n",
    "    k_means = KMeans(random_state=1, n_clusters=6) # default n_clusters = 8\n",
    "\n",
    "    # fit to data\n",
    "    k_means.fit(main_array)\n",
    "\n",
    "    # predict which clusters each song belongs too\n",
    "    predicted_clusters = k_means.fit_predict(main_array)\n",
    "    \n",
    "    # concatenate cluster labels with main dataframe\n",
    "    pred_series = pd.Series(predicted_clusters)\n",
    "    main_df_w_pred = pd.concat([main_df, pred_series], axis=1)\n",
    "    main_df_w_pred.rename(columns={0:'cluster'},inplace=True)\n",
    "\n",
    "    # look at the clusters most similar to user's playlist\n",
    "    relevant_clusters = main_df_w_pred['cluster'][main_df_w_pred.playlist_track==1]\n",
    "    \n",
    "    # drop the user playlist songs from df, so they aren't recommended again\n",
    "    pred_df = main_df_w_pred.drop(main_df_w_pred[main_df_w_pred.playlist_track==1].index)\n",
    "    \n",
    "    # return one random recommendation from each cluster\n",
    "    recs=[]\n",
    "    for k in relevant_clusters:\n",
    "        try:\n",
    "            recs +=pred_df[['name', 'artist']][pred_df.cluster==k].sample(1, random_state=543).values.tolist()\n",
    "            pred_df.drop(pred_df[['name', 'artist']][pred_df.cluster==k].sample(1, random_state=543).index,inplace=True)\n",
    "        except:\n",
    "            pass\n",
    "    print(label,'songs similar to your playlist:\\n')\n",
    "    for song in recs:\n",
    "        print(song[0]+', by '+ song[1])"
   ]
  },
  {
   "cell_type": "markdown",
   "metadata": {},
   "source": [
    "# Model Evaluation & A/B Testing\n",
    "Using empirical evaluation methods to compare the recommenders\n",
    "## ** in progress**"
   ]
  },
  {
   "cell_type": "markdown",
   "metadata": {},
   "source": [
    "### Khyatee\n",
    "Cosim Model:"
   ]
  },
  {
   "cell_type": "code",
   "execution_count": 524,
   "metadata": {
    "scrolled": true
   },
   "outputs": [
    {
     "name": "stdout",
     "output_type": "stream",
     "text": [
      "4AD songs similar to your playlist:\n",
      "\n",
      "Let's Dance, by M. Ward\n",
      "How to Bring a Blush to the Snow, by Cocteau Twins\n",
      "Hinnom, TX, by Bon Iver\n",
      "Elephant Gun, by Beirut\n",
      "Dive, by Bauhaus\n"
     ]
    }
   ],
   "source": [
    "khyatees_playlist = ['Polly - Moses Sumney', 'Tal Uno - Barrie',\n",
    "               'Butterfly - Adrianne Lenker',\n",
    "               'All of Me Wants All of You - Sufjan Stevens','Cola - Arlo Parks']\n",
    "\n",
    "get_recs(khyatees_playlist, '4AD')"
   ]
  },
  {
   "cell_type": "markdown",
   "metadata": {},
   "source": [
    "Clustering Model:"
   ]
  },
  {
   "cell_type": "code",
   "execution_count": 525,
   "metadata": {},
   "outputs": [
    {
     "name": "stdout",
     "output_type": "stream",
     "text": [
      "4AD songs similar to your playlist:\n",
      "\n",
      "Life's Greatest Fool, by Gene Clark\n",
      "29 #Strafford APTS, by Bon Iver\n",
      "I Need My Girl, by The National\n",
      "Revival, by Deerhunter\n",
      "He Would Have Laughed, by Deerhunter\n"
     ]
    }
   ],
   "source": [
    "cluster_recs(khyatees_playlist, '4AD')"
   ]
  },
  {
   "cell_type": "markdown",
   "metadata": {},
   "source": [
    "### J-Will"
   ]
  },
  {
   "cell_type": "markdown",
   "metadata": {},
   "source": [
    "Cosim model"
   ]
  },
  {
   "cell_type": "code",
   "execution_count": 528,
   "metadata": {},
   "outputs": [
    {
     "name": "stdout",
     "output_type": "stream",
     "text": [
      "Couldn't find: Venus Principle - Popol Vuh \n",
      "\n",
      "Interscope songs similar to your playlist:\n",
      "\n",
      "Let It Go, by Playboi Carti\n",
      "Art Deco, by Lana Del Rey\n",
      "Cinderella Man, by Eminem\n",
      "Still D.R.E. - Instrumental, by Dr. Dre\n"
     ]
    }
   ],
   "source": [
    "jwill_playlist = [\"Step into You - HUM\", \"Venus Principle - Popol Vuh\", \n",
    "        \"A Fabricated Life - Nothing\", \"Clear Language - Balmorhea\", \"anything - Adrianne Lenker\"]\n",
    "\n",
    "get_recs(jwill_playlist, 'Interscope')\n"
   ]
  },
  {
   "cell_type": "markdown",
   "metadata": {},
   "source": [
    "Cluster model"
   ]
  },
  {
   "cell_type": "code",
   "execution_count": 529,
   "metadata": {},
   "outputs": [
    {
     "name": "stdout",
     "output_type": "stream",
     "text": [
      "Couldn't find: Venus Principle - Popol Vuh \n",
      "\n",
      "Interscope songs similar to your playlist:\n",
      "\n",
      "Born This Way, by Lady Gaga\n",
      "Window, by Still Woozy\n",
      "Good For You, by Selena Gomez\n",
      "This Love Isn't Crazy, by Carly Rae Jepsen\n"
     ]
    }
   ],
   "source": [
    "cluster_recs(jwill_playlist, 'Interscope')"
   ]
  },
  {
   "cell_type": "markdown",
   "metadata": {},
   "source": [
    "### Fangfang\n",
    "Cosim Model:"
   ]
  },
  {
   "cell_type": "code",
   "execution_count": 512,
   "metadata": {
    "scrolled": true
   },
   "outputs": [
    {
     "name": "stdout",
     "output_type": "stream",
     "text": [
      "Dead Oceans songs similar to your playlist:\n",
      "\n",
      "Day Glo, by Brazos\n",
      "It's Gonna Take an Airplane, by Destroyer\n",
      "Here She Comes, by Slowdive\n"
     ]
    }
   ],
   "source": [
    "fangfang_playlist = [\"lost in yesterday - tame impala\", \"maria también - khruangbin\",\n",
    "                    \"girl - the internet\"]\n",
    "get_recs(fangfang_playlist, 'Dead Oceans')"
   ]
  },
  {
   "cell_type": "markdown",
   "metadata": {},
   "source": [
    "Cluster model:"
   ]
  },
  {
   "cell_type": "code",
   "execution_count": 513,
   "metadata": {},
   "outputs": [
    {
     "name": "stdout",
     "output_type": "stream",
     "text": [
      "Dead Oceans songs similar to your playlist:\n",
      "\n",
      "So We Won't Forget, by Khruangbin\n",
      "Zionsville, by Khruangbin\n",
      "Nobody, by Mitski\n"
     ]
    }
   ],
   "source": [
    "cluster_recs(fangfang_playlist, 'Dead Oceans')"
   ]
  },
  {
   "cell_type": "markdown",
   "metadata": {},
   "source": [
    "### Josh"
   ]
  },
  {
   "cell_type": "markdown",
   "metadata": {},
   "source": [
    "Cosim Model:"
   ]
  },
  {
   "cell_type": "code",
   "execution_count": 505,
   "metadata": {},
   "outputs": [
    {
     "name": "stdout",
     "output_type": "stream",
     "text": [
      "Couldn't find: time enough for rocking when we're old - the magnetic fields \n",
      "\n",
      "4AD songs similar to your playlist:\n",
      "\n",
      "Santa Fe, by Beirut\n",
      "A Love From Outer Space, by A.R. Kane\n",
      "Let's Dance, by M. Ward\n",
      "Little Dreamer, by Future Islands\n"
     ]
    }
   ],
   "source": [
    "josh_playlist = [\"(nothing but) flowers - talking heads\", \"new year's eve - tom waits\", \n",
    "                 \"cherry-coloured funk - cocteau twins\", \n",
    "                 \"time enough for rocking when we're old - the magnetic fields\", \n",
    "                 \"some loud thunder - clap your hands say yeah\"]\n",
    "get_recs(josh_playlist, '4AD')"
   ]
  },
  {
   "cell_type": "markdown",
   "metadata": {},
   "source": [
    "Cluster Model:"
   ]
  },
  {
   "cell_type": "code",
   "execution_count": 506,
   "metadata": {
    "scrolled": true
   },
   "outputs": [
    {
     "name": "stdout",
     "output_type": "stream",
     "text": [
      "Couldn't find: time enough for rocking when we're old - the magnetic fields \n",
      "\n",
      "4AD songs similar to your playlist:\n",
      "\n",
      "Little Spacey, by Cocteau Twins\n",
      "29 #Strafford APTS, by Bon Iver\n",
      "Miss Modular, by Stereolab\n",
      "Amerimacka featuring Notch, by Thievery Corporation\n"
     ]
    }
   ],
   "source": [
    "cluster_recs(josh_playlist, '4AD')"
   ]
  },
  {
   "cell_type": "markdown",
   "metadata": {},
   "source": [
    "### Nick"
   ]
  },
  {
   "cell_type": "code",
   "execution_count": 487,
   "metadata": {},
   "outputs": [
    {
     "name": "stdout",
     "output_type": "stream",
     "text": [
      "Couldn't find: Ela Minus, Grammy - Jenn Morel \n",
      "\n",
      "Couldn't find: Ecko, Algo Nuevo - La Dona \n",
      "\n",
      "Atlantic songs similar to your playlist:\n",
      "\n",
      "Geek'd (feat. Lil Baby), by Bhad Bhabie\n",
      "I'm Yours, by Jason Mraz\n",
      "Strawberry Shortcake, by Melanie Martinez\n"
     ]
    }
   ],
   "source": [
    "nicks_playlist =[\"Patrona - Lao Ra\", \"SALTA - Mitu\", \"Ela Minus, Grammy - Jenn Morel\", \n",
    "                 \"Ecko, Algo Nuevo - La Dona\", \"Pity - Navy\"]\n",
    "get_recs(nicks_playlist, 'Atlantic')"
   ]
  },
  {
   "cell_type": "code",
   "execution_count": 492,
   "metadata": {},
   "outputs": [
    {
     "name": "stdout",
     "output_type": "stream",
     "text": [
      "Couldn't find: Ela Minus, Grammy - Jenn Morel \n",
      "\n",
      "Couldn't find: Ecko, Algo Nuevo - La Dona \n",
      "\n",
      "Atlantic songs similar to your playlist:\n",
      "\n",
      "These Days, by Wallows\n",
      "I Follow Rivers - The Magician Remix, by Lykke Li\n",
      "Bad Bad, by YoungBoy Never Broke Again\n"
     ]
    }
   ],
   "source": [
    "cluster_recs(nicks_playlist, 'Atlantic')"
   ]
  },
  {
   "cell_type": "markdown",
   "metadata": {},
   "source": [
    "### Ismael\n",
    "Cosim Model:"
   ]
  },
  {
   "cell_type": "code",
   "execution_count": 477,
   "metadata": {},
   "outputs": [
    {
     "name": "stdout",
     "output_type": "stream",
     "text": [
      "Sub Pop songs similar to your playlist:\n",
      "\n",
      "Hiphopopotamus vs. Rhymenoceros, by Flight of the Conchords\n",
      "About A Girl, by Nirvana\n",
      "Zebra, by Beach House\n"
     ]
    }
   ],
   "source": [
    "ismael_playlist = ['believe - mumford & sons', 'remembering sunday - all time low', \n",
    "                   'should have known better - sufjan stevens']\n",
    "get_recs(ismael_playlist, 'Sub Pop')"
   ]
  },
  {
   "cell_type": "markdown",
   "metadata": {},
   "source": [
    "Cluster model:"
   ]
  },
  {
   "cell_type": "code",
   "execution_count": 478,
   "metadata": {},
   "outputs": [
    {
     "name": "stdout",
     "output_type": "stream",
     "text": [
      "Sub Pop songs similar to your playlist:\n",
      "\n",
      "All We Ever Knew, by The Head and the Heart\n",
      "The World At Large, by Modest Mouse\n",
      "Shake, by The Head and the Heart\n"
     ]
    }
   ],
   "source": [
    "cluster_recs(ismael_playlist, 'Sub Pop')"
   ]
  },
  {
   "cell_type": "markdown",
   "metadata": {},
   "source": [
    "### Amelia"
   ]
  },
  {
   "cell_type": "code",
   "execution_count": 416,
   "metadata": {},
   "outputs": [
    {
     "name": "stdout",
     "output_type": "stream",
     "text": [
      "Transgressive songs similar to your playlist:\n",
      "\n",
      "Samson, by Regina Spektor\n",
      "Hero, by Regina Spektor\n",
      "Birthday Suit, by Cosmo Sheldrake\n"
     ]
    }
   ],
   "source": [
    "amelia_playlist = [\"first class - rainbow kitten surprise\", \n",
    "                \"silver lining - mt. joy\", \"soulfight - the revivalists\"]\n",
    "get_recs(amelia_playlist, 'Transgressive')"
   ]
  },
  {
   "cell_type": "code",
   "execution_count": 417,
   "metadata": {},
   "outputs": [
    {
     "name": "stdout",
     "output_type": "stream",
     "text": [
      "Transgressive songs similar to your playlist:\n",
      "\n",
      "This Song Is Not About A Girl, by Flume\n",
      "Rushing Back, by Flume\n",
      "Flightless Bird, American Mouth, by Iron & Wine\n"
     ]
    }
   ],
   "source": [
    "cluster_recs(amelia_playlist, 'Transgressive')"
   ]
  },
  {
   "cell_type": "markdown",
   "metadata": {},
   "source": [
    "### Sidney"
   ]
  },
  {
   "cell_type": "code",
   "execution_count": 474,
   "metadata": {},
   "outputs": [
    {
     "name": "stdout",
     "output_type": "stream",
     "text": [
      "Island songs similar to your playlist:\n",
      "\n",
      "The Calm, by Drake\n",
      "Lookalike, by Conan Gray\n",
      "My Everything, by Ariana Grande\n",
      "Chicago Freestyle (feat. Giveon), by Drake\n",
      "Never Be Alone, by Shawn Mendes\n",
      "There's Nothing Holdin' Me Back, by Shawn Mendes\n",
      "The Birds Pt. 2, by The Weeknd\n"
     ]
    }
   ],
   "source": [
    "sidney_playlist = [\"Down To Earth - UMI\", \"Love Affair - UMI\", \"Streets - Doja Cat\", \n",
    "                   \"SUGAR - BROCKHAMPTON\", \"You Sad - Tkay Maidza\", \"Hair Down - SiR\", \n",
    "                   \"CRAZY - Jessie Reyez\"]\n",
    "get_recs(sidney_playlist, 'Island')"
   ]
  },
  {
   "cell_type": "code",
   "execution_count": 424,
   "metadata": {},
   "outputs": [
    {
     "name": "stdout",
     "output_type": "stream",
     "text": [
      "Island songs similar to your playlist:\n",
      "\n",
      "Let It Go - From \"Frozen / Single Version, by Demi Lovato\n",
      "Why Won't You Make Up Your Mind?, by Tame Impala\n",
      "Below My Feet, by Mumford & Sons\n",
      "Lovers' Eyes, by Mumford & Sons\n",
      "Lie To Me, by Bon Jovi\n",
      "Behind Barz - Bonus, by Drake\n",
      "Hold On, We're Going Home, by Drake\n"
     ]
    }
   ],
   "source": [
    "cluster_recs(sidney_playlist, 'Island')"
   ]
  },
  {
   "cell_type": "markdown",
   "metadata": {},
   "source": [
    "### Justin F"
   ]
  },
  {
   "cell_type": "code",
   "execution_count": 467,
   "metadata": {},
   "outputs": [
    {
     "name": "stdout",
     "output_type": "stream",
     "text": [
      "Atlantic songs similar to your playlist:\n",
      "\n",
      "Make It Rain, by Ed Sheeran\n",
      "Jesus In LA, by Alec Benjamin\n",
      "I Warned Myself, by Charlie Puth\n",
      "Floyd Mayweather (feat. Travis Scott, Gucci Mane and Gunna), by Young Thug\n",
      "I'm Yours, by Jason Mraz\n"
     ]
    }
   ],
   "source": [
    "justinF_playlist =[\"Monsters - All Time Low\", \"Weightless - All Time Low\", \n",
    "                   \"Getaway Green - All Time Low\", \"Stupid for you - Waterparks\", \n",
    "                   \"Turbulent - Waterparks\"]\n",
    "get_recs(justinF_playlist, 'Atlantic')"
   ]
  },
  {
   "cell_type": "code",
   "execution_count": 466,
   "metadata": {},
   "outputs": [
    {
     "name": "stdout",
     "output_type": "stream",
     "text": [
      "Atlantic songs similar to your playlist:\n",
      "\n",
      "Bad Bad, by YoungBoy Never Broke Again\n",
      "Passenger Seat, by Death Cab for Cutie\n",
      "Knocked Off, by YoungBoy Never Broke Again\n",
      "I Follow Rivers - The Magician Remix, by Lykke Li\n",
      "First of the Year (Equinox), by Skrillex\n"
     ]
    }
   ],
   "source": [
    "cluster_recs(justinF_playlist, 'Atlantic')"
   ]
  },
  {
   "cell_type": "markdown",
   "metadata": {},
   "source": [
    "### Eric"
   ]
  },
  {
   "cell_type": "code",
   "execution_count": 430,
   "metadata": {},
   "outputs": [
    {
     "name": "stdout",
     "output_type": "stream",
     "text": [
      "Interscope songs similar to your playlist:\n",
      "\n",
      "my strange addiction, by Billie Eilish\n",
      "We Work The Black Seam, by Sting\n",
      "If I Believe You, by The 1975\n",
      "Hazardous Youth - A Cappella, by Eminem\n",
      "Your Song, by Ellie Goulding\n"
     ]
    }
   ],
   "source": [
    "eric_playlist = [\"Dua Lipa - don't start now\", \"Lady Gaga - fun tonight\", \"Ava Max - salt\", \n",
    "        \"Galantis - Faith\", \"Gryffin - Feel Good\"]\n",
    "get_recs(eric_playlist, 'Interscope')"
   ]
  },
  {
   "cell_type": "code",
   "execution_count": 431,
   "metadata": {},
   "outputs": [
    {
     "name": "stdout",
     "output_type": "stream",
     "text": [
      "Interscope songs similar to your playlist:\n",
      "\n",
      "dothatshit!, by Playboi Carti\n",
      "Born This Way, by Lady Gaga\n",
      "Window, by Still Woozy\n",
      "Good For You, by Selena Gomez\n",
      "The Heart Wants What It Wants, by Selena Gomez\n"
     ]
    }
   ],
   "source": [
    "cluster_recs(eric_playlist,'Interscope')"
   ]
  },
  {
   "cell_type": "markdown",
   "metadata": {},
   "source": [
    "### Daniel"
   ]
  },
  {
   "cell_type": "code",
   "execution_count": 455,
   "metadata": {},
   "outputs": [
    {
     "name": "stdout",
     "output_type": "stream",
     "text": [
      "XL songs similar to your playlist:\n",
      "\n",
      "Backdrifts, by Radiohead\n",
      "Storm Music, by Gil Scott-Heron\n",
      "Sunflower (feat. Steve Lacy), by Vampire Weekend\n"
     ]
    }
   ],
   "source": [
    "daniel_playlist = ['Hunnybee - Unknown Mortal Orchestra',\n",
    "                    'Me, Myself & I - Oliver Tree',\n",
    "                    'Prune, You Talk Funny - Gus Dapperton']\n",
    "get_recs(daniel_playlist, 'XL')"
   ]
  },
  {
   "cell_type": "code",
   "execution_count": 456,
   "metadata": {},
   "outputs": [
    {
     "name": "stdout",
     "output_type": "stream",
     "text": [
      "XL songs similar to your playlist:\n",
      "\n",
      "Rumour Has It, by Adele\n",
      "All Along The Watchtower, by Bobby Womack\n",
      "Take It All, by Adele\n"
     ]
    }
   ],
   "source": [
    "cluster_recs(daniel_playlist, 'XL')"
   ]
  },
  {
   "cell_type": "markdown",
   "metadata": {},
   "source": [
    "### DJ"
   ]
  },
  {
   "cell_type": "code",
   "execution_count": 451,
   "metadata": {},
   "outputs": [
    {
     "name": "stdout",
     "output_type": "stream",
     "text": [
      "Matador songs similar to your playlist:\n",
      "\n",
      "March Into the Sea, by Modest Mouse\n",
      "Border Line, by King Krule\n",
      "Let's Move To The Country, by Smog\n"
     ]
    }
   ],
   "source": [
    "dj_playlist = [\"King of the beach - Wavves\",\n",
    "            \"Rocket man - Elton John\",\n",
    "            \"Take me away - Scotty Sire\"]\n",
    "get_recs(dj_playlist, 'Matador')"
   ]
  },
  {
   "cell_type": "code",
   "execution_count": 452,
   "metadata": {},
   "outputs": [
    {
     "name": "stdout",
     "output_type": "stream",
     "text": [
      "Matador songs similar to your playlist:\n",
      "\n",
      "If I Had A Tail, by Queens of the Stone Age\n",
      "Wagon Wheel, by Lou Reed\n",
      "My God Is The Sun, by Queens of the Stone Age\n"
     ]
    }
   ],
   "source": [
    "cluster_recs(dj_playlist, 'Matador')"
   ]
  },
  {
   "cell_type": "markdown",
   "metadata": {},
   "source": [
    "### Lauren"
   ]
  },
  {
   "cell_type": "code",
   "execution_count": 448,
   "metadata": {},
   "outputs": [
    {
     "name": "stdout",
     "output_type": "stream",
     "text": [
      "Dead Oceans songs similar to your playlist:\n",
      "\n",
      "Sing, by Slowdive\n",
      "It's Gonna Take an Airplane, by Destroyer\n",
      "I Hear You Calling, by Bill Fay\n"
     ]
    }
   ],
   "source": [
    "lauren_playlist = [\"imi - bon iver\", \"now im in it - haim\", \"kyoto - phoebe bridgers\"]\n",
    "get_recs(lauren_playlist, 'Dead Oceans')"
   ]
  },
  {
   "cell_type": "code",
   "execution_count": 435,
   "metadata": {},
   "outputs": [
    {
     "name": "stdout",
     "output_type": "stream",
     "text": [
      "Dead Oceans songs similar to your playlist:\n",
      "\n",
      "Sugaree, by Phosphorescent\n",
      "So We Won't Forget, by Khruangbin\n",
      "I See You, by Phoebe Bridgers\n"
     ]
    }
   ],
   "source": [
    "cluster_recs(lauren_playlist, 'Dead Oceans')"
   ]
  },
  {
   "cell_type": "markdown",
   "metadata": {},
   "source": [
    "### David Bruce"
   ]
  },
  {
   "cell_type": "code",
   "execution_count": 444,
   "metadata": {},
   "outputs": [
    {
     "name": "stdout",
     "output_type": "stream",
     "text": [
      "Fat Possum songs similar to your playlist:\n",
      "\n",
      "Black Mud, by The Black Keys\n",
      "If I Needed You, by Townes Van Zandt\n",
      "Mr. Mudd & Mr. Gold - Live, by Townes Van Zandt\n"
     ]
    }
   ],
   "source": [
    "davidB_playlist = [\"heavy metal drummer - wilco\",\n",
    "                    \"disparate youth - santigold\",\n",
    "                    \"the heart is a muscle - gang of youths\"]\n",
    "get_recs(davidB_playlist, 'Fat Possum')"
   ]
  },
  {
   "cell_type": "code",
   "execution_count": 445,
   "metadata": {},
   "outputs": [
    {
     "name": "stdout",
     "output_type": "stream",
     "text": [
      "Fat Possum songs similar to your playlist:\n",
      "\n",
      "The General Specific, by Band of Horses\n",
      "Next Girl, by The Black Keys\n",
      "Little Black Submarines, by The Black Keys\n"
     ]
    }
   ],
   "source": [
    "cluster_recs(davidB_playlist, 'Fat Possum')"
   ]
  },
  {
   "cell_type": "markdown",
   "metadata": {},
   "source": [
    "### Jake Heyman"
   ]
  },
  {
   "cell_type": "code",
   "execution_count": 436,
   "metadata": {},
   "outputs": [
    {
     "name": "stdout",
     "output_type": "stream",
     "text": [
      "Sub Pop songs similar to your playlist:\n",
      "\n",
      "Robots, by Flight of the Conchords\n",
      "Pollo Asado, by Ween\n",
      "Have You Forgotten, by Red House Painters\n"
     ]
    }
   ],
   "source": [
    "jakeH_playlist = [\"space song - beach house\",\n",
    "                    \"Fitzpleasure - Alt-j\",\n",
    "                    \"Interstellar love - The Avalanches\"]\n",
    "get_recs(jakeH_playlist, 'Sub Pop')"
   ]
  },
  {
   "cell_type": "code",
   "execution_count": 437,
   "metadata": {},
   "outputs": [
    {
     "name": "stdout",
     "output_type": "stream",
     "text": [
      "Sub Pop songs similar to your playlist:\n",
      "\n",
      "All We Ever Knew, by The Head and the Heart\n",
      "Shake, by The Head and the Heart\n",
      "ELO Kiddies - Single Version, by Cheap Trick\n"
     ]
    }
   ],
   "source": [
    "cluster_recs(jakeH_playlist, 'Sub Pop')"
   ]
  },
  {
   "cell_type": "code",
   "execution_count": null,
   "metadata": {},
   "outputs": [],
   "source": []
  }
 ],
 "metadata": {
  "kernelspec": {
   "display_name": "Python 3",
   "language": "python",
   "name": "python3"
  },
  "language_info": {
   "codemirror_mode": {
    "name": "ipython",
    "version": 3
   },
   "file_extension": ".py",
   "mimetype": "text/x-python",
   "name": "python",
   "nbconvert_exporter": "python",
   "pygments_lexer": "ipython3",
   "version": "3.6.9"
  }
 },
 "nbformat": 4,
 "nbformat_minor": 4
}
